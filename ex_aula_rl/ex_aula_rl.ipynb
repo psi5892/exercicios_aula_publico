{
 "cells": [
  {
   "cell_type": "markdown",
   "metadata": {
    "id": "yGgWYiVgDeed"
   },
   "source": [
    "Para abrir o notebook no Google Colab, altere o domínio `github.com` para `githubtocolab.com`"
   ]
  },
  {
   "cell_type": "markdown",
   "metadata": {},
   "source": [
    "<div class=\"alert alert-block alert-danger\">\n",
    "Para praticar programação, é importante que você erre, leia as mensagens de erro e tente corrigí-los.\n",
    "    \n",
    "Dessa forma, no Google Colab, é importante que você DESATIVE OS RECURSOS DE AUTOCOMPLETAR:\n",
    "\n",
    "- Menu Ferramentas -> Configurações\n",
    "- Na janela que é aberta:\n",
    "  - Seção Editor -> Desativar \"Mostrar sugestões de preenchimento de código com base no contexto\"\n",
    "\n",
    "Na versão em inglês:\n",
    "\n",
    "- Menu Tools -> Settings\n",
    "- Na janela que é aberta:\n",
    "  - Seção Editor -> Desativar \"Show context-powered code completions\"\n",
    "</div>"
   ]
  },
  {
   "cell_type": "markdown",
   "metadata": {
    "id": "8VXhRoEfeeVY"
   },
   "source": [
    "# PSI5892 - Aula de Exercícios\n",
    "\n",
    "# Regressão Linear \n"
   ]
  },
  {
   "cell_type": "markdown",
   "metadata": {
    "id": "tMEE__c7D9os"
   },
   "source": [
    "# Exercício 1\n",
    "\n",
    "A tabela abaixo contém dados dos medalhistas de ouro da prova masculina de atletismo na modalidade de 400 metros rasos dos últimos doze jogos olímpicos (de 1976 a 2020).  Utilizando os dados dessa tabela, vamos obter aproximações polinomiais de diferentes ordens. Em cada aproximação, vamos estimar o tempo que se espera para essa prova nos jogos olímpicos que serão realizados em Paris em 2024 e também nos jogos de 2032.\n",
    "\n",
    "|Ano|Local|Medalhista de ouro|País|Tempo|\n",
    "|:--|:--|:--|:--|:--|\n",
    "|1976|Montreal|Alberto Juantorena|Cuba|44,26|\n",
    "|1980|Moscou|Viktor Martin|URSS|44,60|\n",
    "|1984|Los Angeles|Alonzo Babers|EUA|44,27|\n",
    "|1988|Seul|Steve Lewis|EUA|43,87|\n",
    "|1992|Barcelona|Quincy Watts|EUA|43,50|\n",
    "|1996|Atlanta|Michael Johnson|EUA|43,49|\n",
    "|2000|Sydney|Michael Johnson|EUA|43,84|\n",
    "|2004|Atenas|Jeremy Wariner|EUA|44,00|\n",
    "|2008|Pequim|LaShawn Merritt|EUA|43,75|\n",
    "|2012|Londres|Kirani James|Granada|43,94|\n",
    "|2016|Rio de Janeiro|Wayde Van Niekerk|África do Sul|43,03|\n",
    "|2020|Tóquio|Steven Gardiner|Bahamas|43,85|\n"
   ]
  },
  {
   "cell_type": "markdown",
   "metadata": {},
   "source": [
    "Iniciamos importando as bibliotecas necessárias para implementar a RL:"
   ]
  },
  {
   "cell_type": "code",
   "execution_count": null,
   "metadata": {
    "id": "n0LN9G4ZoIMv"
   },
   "outputs": [],
   "source": [
    "import numpy as np\n",
    "import matplotlib.pyplot as plt"
   ]
  },
  {
   "cell_type": "markdown",
   "metadata": {},
   "source": [
    "Em seguida, criamos os *arrays* com os dados do problema:"
   ]
  },
  {
   "cell_type": "code",
   "execution_count": null,
   "metadata": {
    "id": "qDcdJOxPsPQ0"
   },
   "outputs": [],
   "source": [
    "# Dados do problema\n",
    "x = np.linspace(1976, 2020, 12) - 1976\n",
    "x = x.reshape(-1, 1) # Convertendo x para um array de rank 2 (vetor coluna)\n",
    "\n",
    "d = np.array(\n",
    "    [44.26, 44.60, 44.27, 43.87, 43.50, 43.49, 43.84, 44.00, 43.75, 43.94, 43.03, 43.85]\n",
    ").reshape(-1, 1) # Convertendo d para um array de rank 2 (vetor coluna)"
   ]
  },
  {
   "cell_type": "markdown",
   "metadata": {
    "id": "qDcdJOxPsPQ0"
   },
   "source": [
    "Note que descontamos o valor 1976 de `x` e, dessa forma, `x` ficará no intervalo $[0, 44]$. Como vamos obter aproximações polinomiais, é importante fazer isso para evitar que a matrix `X` de dados tenha valores muito grandes quando é considerada uma ordem do polinômio elevada, o que poderá levar a problemas numéricos.\n",
    "\n",
    "Além disso, é interessante evitar trabalhar com *arrays* de rank 1, garantindo que os vetores criados sejam vetores linha ou coluna. No código anterior, usamos `.reshape(-1, 1)` para que sejam gerados vetores coluna, com `shape` `(N, 1)`.\n",
    "\n",
    "Vamos armazenar na variável N, o número de pontos fornecidos para o cálculo da regressão:"
   ]
  },
  {
   "cell_type": "code",
   "execution_count": null,
   "metadata": {},
   "outputs": [],
   "source": [
    "N = x.shape[0]"
   ]
  },
  {
   "cell_type": "markdown",
   "metadata": {
    "id": "qDcdJOxPsPQ0"
   },
   "source": [
    "Nesse caso, como `x` é um vetor coluna, poderíamos usar `len(x)` no lugar de `x.shape[0]`. No entanto, vale lembrar que  a função `len(array)` retorna o número de linhas do `array`. Assim, para um vetor linha, a saída da função será sempre `1`, independente do número de elementos do vetor.\n",
    "\n",
    "Tendo os vetores de dados, criamos a função para calcular a RL:"
   ]
  },
  {
   "cell_type": "markdown",
   "metadata": {},
   "source": [
    "<div class=\"alert alert-block alert-success\">\n",
    "Complete o código a seguir:\n",
    "</div>"
   ]
  },
  {
   "cell_type": "code",
   "execution_count": null,
   "metadata": {
    "id": "Nr9d0T1Je7aU"
   },
   "outputs": [],
   "source": [
    "def RL_reta(x, d):\n",
    "    \"\"\"\n",
    "    Função que implementa a regressão linear univariada (reta)\n",
    "    x é o vetor que contém os dados de entrada\n",
    "    d é o vetor que contem o sinal desejado ou rótulo\n",
    "\n",
    "    No problema x representa o ano e d o tempo de prova do medalhista de ouro\n",
    "    \"\"\"\n",
    "\n",
    "    # N representa o número de dados para o cálculo da RL\n",
    "    N = x.shape[0]\n",
    "\n",
    "    # X é a matriz dos dados\n",
    "    X = np.zeros((N, 2))\n",
    "\n",
    "    # A primeira coluna da matrix X recebe 1's e a segunda os valores de x\n",
    "    X[:, [0]] = np.ones((N, 1))\n",
    "    X[:, [1]] = x\n",
    "\n",
    "    # R é o produto das matrizes X.T e X\n",
    "    #############    \n",
    "    # R = ... (1 linha)\n",
    "    #############\n",
    "    \n",
    "    # o vetor p é dado pelo produto entre a matriz X.T e o vetor d\n",
    "    #############    \n",
    "    # p = ... (1 linha)\n",
    "    #############\n",
    "\n",
    "    # Para evitar problemas numéricos, é mais adequado resolver o sistema linear usando a função np.linalg.solve\n",
    "    # Complete a função, resolvendo o sistema linear para calcular wo\n",
    "    # utilizando a função np.linalg.solve\n",
    "    # Documentação em https://numpy.org/doc/stable/reference/generated/numpy.linalg.solve.html\n",
    "    #############\n",
    "    # wo = ... (1 linha)\n",
    "\n",
    "    #############\n",
    "    \n",
    "    # Uma vez calculada a solução dos mínimos quadrados, podemos calcular o vetor de erro\n",
    "    #############    \n",
    "    # e = ... (1 linha)\n",
    "    #############\n",
    "\n",
    "    return wo, e"
   ]
  },
  {
   "cell_type": "markdown",
   "metadata": {},
   "source": [
    "Vamos calcular o resultado da aproximação de primeira ordem:"
   ]
  },
  {
   "cell_type": "code",
   "execution_count": null,
   "metadata": {
    "colab": {
     "base_uri": "https://localhost:8080/",
     "height": 747
    },
    "id": "Ox9tBitjf2Ex",
    "outputId": "50a7c7fb-df31-45f8-c4ba-00ad94e9cf36"
   },
   "outputs": [],
   "source": [
    "# Cálculo dos coeficientes da regressão e do vetor de erros\n",
    "wo, e = RL_reta(x, d)"
   ]
  },
  {
   "cell_type": "markdown",
   "metadata": {},
   "source": [
    "Usando os coeficientes da regressão, vamos fazer uma previsão do tempo para os anos de 2024 e 2032. Inicialmente vamos criar um vetor com os dados de entrada:"
   ]
  },
  {
   "cell_type": "code",
   "execution_count": null,
   "metadata": {
    "colab": {
     "base_uri": "https://localhost:8080/",
     "height": 747
    },
    "id": "Ox9tBitjf2Ex",
    "outputId": "50a7c7fb-df31-45f8-c4ba-00ad94e9cf36"
   },
   "outputs": [],
   "source": [
    "# Dados para previsão\n",
    "xn = np.array([2024 - 1976.0, 2032 - 1976.0]).reshape(-1, 1)"
   ]
  },
  {
   "cell_type": "markdown",
   "metadata": {},
   "source": [
    "É importante garantir que o vetor gerado é do tipo `float`. Uma forma de fazer isso é incluir o `.0` nos elementos do vetor. Caso contrário, ele será considerado como `int` e pode causar problemas na solução.\n",
    "\n",
    "Para verificar o tipo dos dados de um *array* do NumPy, podemos usar o atributo `.dtype`:"
   ]
  },
  {
   "cell_type": "code",
   "execution_count": null,
   "metadata": {},
   "outputs": [],
   "source": [
    "xn.dtype"
   ]
  },
  {
   "cell_type": "markdown",
   "metadata": {},
   "source": [
    "Com os dados de entrada e os coeficientes da regressão, podemos calcular os dados de saída:"
   ]
  },
  {
   "cell_type": "code",
   "execution_count": null,
   "metadata": {},
   "outputs": [],
   "source": [
    "dn = wo[0] + wo[1] * xn\n",
    "dn"
   ]
  },
  {
   "cell_type": "markdown",
   "metadata": {},
   "source": [
    "Por fim, vamos plotar um gráfico mostrando a reta obtida pelos coeficientes da regressão e os dados de treinamento:"
   ]
  },
  {
   "cell_type": "code",
   "execution_count": null,
   "metadata": {
    "colab": {
     "base_uri": "https://localhost:8080/",
     "height": 747
    },
    "id": "Ox9tBitjf2Ex",
    "outputId": "50a7c7fb-df31-45f8-c4ba-00ad94e9cf36"
   },
   "outputs": [],
   "source": [
    "# A função linspace já gera dados do tipo float\n",
    "xt = np.linspace(1976 - 1976, 2020 - 1976, 500).reshape(-1, 1)\n",
    "dt = wo[0] + wo[1] * xt\n",
    "\n",
    "plt.figure(figsize=(12, 12))\n",
    "plt.subplot(2, 1, 1)\n",
    "plt.plot(xt + 1976, dt, \"b\")\n",
    "plt.plot(x + 1976, d, \"or\")\n",
    "plt.grid()\n",
    "plt.title(\n",
    "    [\n",
    "        \"m = 1\",\n",
    "        \"t(2024)= \" + str(round(dn[0, 0], 2)),\n",
    "        \"t(2032)= \" + str(round(dn[1, 0], 2)),\n",
    "    ]\n",
    ")\n",
    "plt.xlabel(\"Ano\")\n",
    "plt.ylabel(\"Tempo (s)\")\n",
    "\n",
    "plt.subplot(2, 1, 2)\n",
    "plt.plot(x + 1976, e, \"-or\")\n",
    "plt.grid()\n",
    "plt.xlabel(\"Ano\")\n",
    "plt.ylabel(\"Erro da aproximação no treinamento\")\n",
    "\n",
    "# Média do módulo do erro do treinamento\n",
    "MErro1 = np.sum(np.abs(e)) / d.shape[0]\n",
    "print(\"A média do módulo do erro no treinamento foi \" + str(round(MErro1, 2)))"
   ]
  },
  {
   "cell_type": "markdown",
   "metadata": {},
   "source": [
    "Agora, vamos utilizar polinômios de ordem mais elevada para fazer a regressão. Vamos iniciar pela implementação da função para calcular os coeficientes de uma regressão polinomial:"
   ]
  },
  {
   "cell_type": "markdown",
   "metadata": {},
   "source": [
    "<div class=\"alert alert-block alert-success\">\n",
    "Complete o código a seguir:\n",
    "</div>"
   ]
  },
  {
   "cell_type": "code",
   "execution_count": null,
   "metadata": {
    "id": "LfzZ7A1LoL5O"
   },
   "outputs": [],
   "source": [
    "def RL_polinomial(x, d, m):\n",
    "    \"\"\"\n",
    "    Função que implementa a regressão linear polinomial\n",
    "\n",
    "    x é o vetor que contém os dados de entrada\n",
    "    d é o vetor que contem o sinal desejado ou rótulo\n",
    "    No problema x representa o ano e d o tempo da prova\n",
    "    m é a ordem do polinômio da aproximação\n",
    "\n",
    "    A função retorna um vetor coluna com m + 1 elementos (para ordem 2, retorna 3 elementos)\n",
    "    \"\"\"\n",
    "   \n",
    "    # N representa o número de dados para o cálculo da RL\n",
    "    N = d.shape[0]\n",
    "\n",
    "    # X é a matriz dos dados, levando em conta a ordem da aproximação polinomial\n",
    "    X = np.zeros((N, m + 1))\n",
    "\n",
    "    # Monte a matriz X com m + 1 colunas, representando os dados de entrada da regressão linear\n",
    "    #############\n",
    "    # Insira o código aqui\n",
    "\n",
    "    #############\n",
    "\n",
    "    # Com a matrix X e o vetor d (recebido como entrada), calcule a solução wo e o erro e\n",
    "    # que serão retornados pela função. Você pode usar como base a função RL_reta mostrada anteriormente\n",
    "    #############\n",
    "    # Insira o código aqui\n",
    "\n",
    "    #############\n",
    "    \n",
    "    return wo, e"
   ]
  },
  {
   "cell_type": "markdown",
   "metadata": {},
   "source": [
    "Também vamos precisar de uma função para calcular a saída da regressão para um determinado valor de entrada:"
   ]
  },
  {
   "cell_type": "code",
   "execution_count": null,
   "metadata": {
    "id": "ybewteMFvHaD"
   },
   "outputs": [],
   "source": [
    "# Função que testa a aproximação polinomial. No problema, vamos usar essa função para prever\n",
    "# o valor do tempo em 2024 e 2032\n",
    "def teste_pol(wo, xn):\n",
    "    m = wo.shape[0]\n",
    "    N = xn.shape[0]\n",
    "    dn = np.zeros((N, 1))\n",
    "    for i in range(m):\n",
    "        dn = dn + wo[i] * xn**i\n",
    "    return dn"
   ]
  },
  {
   "cell_type": "markdown",
   "metadata": {},
   "source": [
    "Além da reta, obtida acima, vamos considerar mais 8 aproximações polinomiais (reta, parábola, ..., polinômio de grau 9):"
   ]
  },
  {
   "cell_type": "code",
   "execution_count": null,
   "metadata": {
    "id": "aJVuXCe60NuY"
   },
   "outputs": [],
   "source": [
    "Gp = 10\n",
    "ordem = range(2, Gp)\n",
    "MErro = np.zeros((Gp - 1, 1))\n",
    "MErro[0] = MErro1\n",
    "\n",
    "# Dados para previsão\n",
    "xn = np.array([2024 - 1976.0, 2032 - 1976.0]).reshape(-1, 1)\n",
    "# Dados para gerar gráfico da aproximação\n",
    "xt = np.linspace(1976 - 1976, 2020 - 1976, 500).reshape(-1, 1)\n",
    "\n",
    "plt.figure(figsize=(12, 12))\n",
    "for m in ordem:    \n",
    "    wo, e = RL_polinomial(x, d, m)\n",
    "    dn = teste_pol(wo, xn)\n",
    "    dt = teste_pol(wo, xt)\n",
    "    \n",
    "    MErro[m - 1] = np.sum(np.abs(e)) / d.shape[0]\n",
    "\n",
    "    plt.subplot(4, 2, m - 1)\n",
    "    plt.plot(xt + 1976, dt, \"b\")\n",
    "    plt.plot(x + 1976, d, \"or\")\n",
    "    plt.grid()\n",
    "    plt.title([\"m= \" + str(m), \"t(24)= \" + str(round(dn[0, 0],2)), \"t(32)= \" + str(round(dn[1, 0],2))])\n",
    "    plt.ylabel(\"Tempo (s)\")\n",
    "\n",
    "# Vamos gerar um gráfico do erro de aproximação no treinamento em função da ordem do polinômio\n",
    "plt.figure()\n",
    "xo = range(1, Gp)\n",
    "plt.plot(xo, MErro, \"-or\")\n",
    "plt.grid()\n",
    "plt.xlabel(\"Ordem do polinômio\")\n",
    "plt.ylabel(\"Módulo do Erro da aproximação no treinamento\")"
   ]
  },
  {
   "cell_type": "markdown",
   "metadata": {
    "id": "zavySmePhpVH",
    "tags": []
   },
   "source": [
    "# Conclusões\n",
    "\n",
    "1. Idealmente, seria bom reservar uma parte dos dados para análise do modelo. No entanto, resolvemos usar todos os dados já que havia apenas 12 amostras e sabíamos a faixa de valores esperada. A partir da ordem 4, a previsão está fora do que se espera. Em particular para ordem 9, observamos que a curva se ajusta a todos os pontos, mas a previsão está totalmente fora do intervalo que esperamos. Claramente, ocorreu *overfitting*. Ou seja, o modelo se ajusta quase que perfeitamente aos dados de treinamento, mas não consegue gerar previsões adequadas para dados que não foram utilizados para treiná-lo.\n",
    "\n",
    "2. Quando buscamos o polinômio de ordem maior ou igual a 2, apesar de estarmos lidando com dados do tipo $(x_n, d_n)$, podemos dizer que estamos fazendo uma regressão linear multivariada. Considerando essa interpretação, estamos usando\n",
    "dados do tipo\n",
    "$$(x_n, x_n^2, x_n^3, \\ldots, x_n^m, d_n)$$\n",
    "para a aproximação com polinômio de ordem $m$."
   ]
  },
  {
   "cell_type": "markdown",
   "metadata": {
    "id": "wC9BsK3tnlr7",
    "tags": []
   },
   "source": [
    "# Exercício 2\n",
    "\n",
    "A falta ou excesso de chuva sempre traz preocupação. No primeiro caso, pode haver problemas no abastecimento de água como ocorreu na crise hídrica do Brasil em meados entre 2014 e 2015. No segundo, pode haver alagamentos, destruição e eventualmente mortes nas áreas afetadas, como ocorreu no litoral norte de São Paulo em fevereiro de 2023. \n",
    "\n",
    "Vamos usar a regressão linear para encontrar uma aproximação para os dados médios de precipitação  na cidade de São Paulo.\n",
    "Para isso, considere os dados da tabela abaixo obtidos em  http://www.climatempo.com.br/ . As médias climatológicas são valores calculados a partir de um série de dados de 30 anos observados. Para simplificar, os dias do ano são numerados começando em 15 de janeiro. Suponha que os dados de cada mês não estão disponíveis e se deseja\n",
    "obter o valor médio em uma certa data do ano que não está na tabela.\n",
    "\n",
    "|Data|Dia/número|Precipitação (mm)|\n",
    "|:--|:-:|:-:|\n",
    "|15 de janeiro|0|237|\n",
    "|15 de março|59|161|\n",
    "|15 de maio|120|71|\n",
    "|15 de julho|181|44|\n",
    "|15 de setembro|243|71|\n",
    "|15 de novembro|304|146|\n",
    "\n",
    "Para essa aproximação, faz sentido usar uma função periódica. Considere\n",
    "a seguinte aproximação\n",
    "$$d\\approx\\alpha_0+\\alpha_1\\cos\\left(\\frac{2\\pi x}{365}\\right)+\\alpha_2\\;{\\rm sen}\\left(\\frac{2\\pi x}{365}\\right).$$\n",
    "\n",
    "Em um mesmo gráfico, plote os dados e a aproximação. Apresente também um gráfico dos erros. Estime o valor médio esperado para o dia 15 de agosto que corresponde ao dia número 227 do ano e compare com o valor real médio que é de 40mm."
   ]
  },
  {
   "cell_type": "markdown",
   "metadata": {},
   "source": [
    "Iniciamos criando os *arrays* com os dados do problema:"
   ]
  },
  {
   "cell_type": "code",
   "execution_count": null,
   "metadata": {},
   "outputs": [],
   "source": [
    "# Dados do problema\n",
    "x = np.array([0.0, 59.0, 120.0, 181.0, 243.0, 304.0]).reshape(-1, 1)\n",
    "d = np.array([237.0, 161.0, 71.0, 44.0, 71.0, 146.0]).reshape(-1, 1)\n",
    "N = x.shape[0]"
   ]
  },
  {
   "cell_type": "markdown",
   "metadata": {},
   "source": [
    "Em seguida, modificamos a função para calcular a RL considerando o modelo fornecido:"
   ]
  },
  {
   "cell_type": "markdown",
   "metadata": {},
   "source": [
    "<div class=\"alert alert-block alert-success\">\n",
    "Complete o código a seguir:\n",
    "</div>"
   ]
  },
  {
   "cell_type": "code",
   "execution_count": null,
   "metadata": {
    "id": "liu9lhoet46I"
   },
   "outputs": [],
   "source": [
    "def RL_sencos(x, d):\n",
    "    \"\"\"\n",
    "    Função que implementa a regressão linear polinomial\n",
    "    x é o vetor que contém os dados de entrada\n",
    "    d é o vetor que contem o sinal desejado ou rótulo\n",
    "    No problema x representa o dia do ano e d a precipitação média\n",
    "    \"\"\"\n",
    "    # Escreva o código para calcular o vetor de coeficientes wo e o \n",
    "    # vetor de erros e\n",
    "    #############\n",
    "    # Insira o código aqui\n",
    "\n",
    "    #############\n",
    "    \n",
    "    return wo, e"
   ]
  },
  {
   "cell_type": "markdown",
   "metadata": {},
   "source": [
    "Com a função implementada, calculamos os coeficientes da regressão:"
   ]
  },
  {
   "cell_type": "code",
   "execution_count": null,
   "metadata": {
    "colab": {
     "base_uri": "https://localhost:8080/",
     "height": 331
    },
    "id": "66BSN1Icveb_",
    "outputId": "2aa0c160-9931-4c51-bee2-1fa387e893c8"
   },
   "outputs": [],
   "source": [
    "wo, e = RL_sencos(x, d)"
   ]
  },
  {
   "cell_type": "markdown",
   "metadata": {},
   "source": [
    "Com os coeficientes, calculamos a previsão para o dia 227:"
   ]
  },
  {
   "cell_type": "code",
   "execution_count": null,
   "metadata": {
    "colab": {
     "base_uri": "https://localhost:8080/",
     "height": 331
    },
    "id": "66BSN1Icveb_",
    "outputId": "2aa0c160-9931-4c51-bee2-1fa387e893c8"
   },
   "outputs": [],
   "source": [
    "# Dados para previsão\n",
    "xn = 227.0\n",
    "aux = 2 * np.pi / 365\n",
    "dn = wo[0] + wo[1] * np.cos(aux * xn) + wo[2] * np.sin(aux * xn)\n",
    "print(xn)\n",
    "print(dn)"
   ]
  },
  {
   "cell_type": "markdown",
   "metadata": {},
   "source": [
    "Por fim, vamos gerar gráficos mostrando a curva obtida pela regressão, os pontos utilizados para obter os coeficientes e o valor dos erros em relação à cada ponto:"
   ]
  },
  {
   "cell_type": "markdown",
   "metadata": {},
   "source": [
    "<div class=\"alert alert-block alert-success\">\n",
    "Complete o código a seguir:\n",
    "</div>"
   ]
  },
  {
   "cell_type": "code",
   "execution_count": null,
   "metadata": {
    "colab": {
     "base_uri": "https://localhost:8080/",
     "height": 331
    },
    "id": "66BSN1Icveb_",
    "outputId": "2aa0c160-9931-4c51-bee2-1fa387e893c8"
   },
   "outputs": [],
   "source": [
    "# Plote uma figura com 2 gráficos:\n",
    "# 1) Um gráfico com a aproximação obtida pela regresão ao longo\n",
    "# dos dias dos ano. Inclua os pontos usados para a obtenção dos \n",
    "# coeficientes da regressão no mesmo gráfico\n",
    "# 2) Um gráfico com o erro da aproximação obtida com a regressão\n",
    "# para cada ponto usado para a obtenção dos coeficientes wo\n",
    "\n",
    "#############\n",
    "# Insira o código aqui\n",
    "\n",
    "\n",
    "#############\n"
   ]
  }
 ],
 "metadata": {
  "colab": {
   "provenance": []
  },
  "kernelspec": {
   "display_name": "Python 3 (ipykernel)",
   "language": "python",
   "name": "python3"
  },
  "language_info": {
   "codemirror_mode": {
    "name": "ipython",
    "version": 3
   },
   "file_extension": ".py",
   "mimetype": "text/x-python",
   "name": "python",
   "nbconvert_exporter": "python",
   "pygments_lexer": "ipython3",
   "version": "3.10.16"
  }
 },
 "nbformat": 4,
 "nbformat_minor": 4
}
