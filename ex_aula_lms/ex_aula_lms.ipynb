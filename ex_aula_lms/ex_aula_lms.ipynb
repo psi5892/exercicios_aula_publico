{
 "cells": [
  {
   "cell_type": "markdown",
   "metadata": {},
   "source": [
    "$\\newcommand{\\vir}{,\\hspace{-0.15ex}}$\n",
    "$\\newcommand{\\MSE}{{\\rm MSE}}$\n",
    "$\\newcommand{\\Her}{\\scriptscriptstyle H}$\n",
    "$\\newcommand{\\T}{\\scriptscriptstyle T}$\n",
    "$\\newcommand{\\R}{\\scriptscriptstyle R}$\n",
    "$\\newcommand{\\I}{\\scriptscriptstyle I}$\n",
    "$\\newcommand{\\mT}{\\scriptscriptstyle -T}$\n",
    "$\\newcommand{\\M}{\\scriptscriptstyle M}$\n",
    "$\\newcommand{\\RNN}{\\rm \\scriptscriptstyle RNN}$\n",
    "$\\newcommand{\\E}{{\\rm E}}$\n",
    "$\\newcommand{\\uM}{{\\mathbf x}}$\n",
    "$\\newcommand{\\w}{{\\mathbf w}}$\n",
    "$\\newcommand{\\wo}{{\\mathbf w}_{\\rm o}}$\n",
    "$\\newcommand{\\q}{{\\mathbf q}}$\n",
    "$\\newcommand{\\Nuquad}{\\|{\\mathbf u(n)}\\|^2}$\n",
    "$\\newcommand{\\NuquadP}{\\|{\\mathbf u(n)}\\|^2_{{\\mathbf R}^{-1}(n)}}$\n",
    "$\\newcommand{\\uMc}{{\\mathbf u}^{\\ast}}$\n",
    "$\\newcommand{\\wtil}{\\widetilde{\\mathbf w}}$\n",
    "$\\newcommand{\\Pb}{{\\mathbf R}^{-1}}$\n",
    "$\\newcommand{\\ebari}{{\\bar{e}}_i}$\n",
    "$\\newcommand{\\field}[1]{\\mathbb{#1}}$\n",
    "$\\newcommand{\\re}{\\field{R}}$\n",
    "$\\newcommand{\\co}{\\field{C}}$\n",
    "$\\newcommand{\\CO}{\\field{C}}$\n",
    "$\\newcommand{\\RE}{\\field{R}}$\n",
    "$\\newcommand{\\Tr}{{\\rm Tr}}$\n",
    "$\\newcommand{\\sgbeta}{\\sigma_{\\scriptscriptstyle{\\!\\beta}}^2}$\n",
    "$\\newcommand{\\sgphi}{\\sigma_{\\scriptscriptstyle{\\!\\varphi}}^2}$\n",
    "$\\newcommand{\\cred}{\\textcolor{red}}$\n",
    "\n"
   ]
  },
  {
   "cell_type": "markdown",
   "metadata": {
    "id": "yGgWYiVgDeed"
   },
   "source": [
    "Para abrir o notebook no Google Colab, altere o domínio `github.com` para `githubtocolab.com`"
   ]
  },
  {
   "cell_type": "markdown",
   "metadata": {},
   "source": [
    "<div class=\"alert alert-block alert-danger\">\n",
    "Para praticar programação, é importante que você erre, leia as mensagens de erro e tente corrigí-los.\n",
    "    \n",
    "Dessa forma, no Google Colab, é importante que você DESATIVE OS RECURSOS DE AUTOCOMPLETAR:\n",
    "\n",
    "- Menu Ferramentas -> Configurações\n",
    "- Na janela que é aberta:\n",
    "  - Seção Editor -> Desativar \"Mostrar sugestões de preenchimento de código com base no contexto\"\n",
    "  - Seção Assistência de IA -> Desabilitar itens\n",
    "\n",
    "Na versão em inglês:\n",
    "\n",
    "- Menu Tools -> Settings\n",
    "- Na janela que é aberta:\n",
    "  - Seção Editor -> Desativar \"Show context-powered code completions\"\n",
    "  - Seção AI Assistance -> Desabilitar itens\n",
    "</div>"
   ]
  },
  {
   "cell_type": "markdown",
   "metadata": {
    "id": "8VXhRoEfeeVY"
   },
   "source": [
    "# PSI5892 - Aula de Exercícios\n",
    "\n",
    "# Regressão Linear \n"
   ]
  },
  {
   "cell_type": "markdown",
   "metadata": {},
   "source": [
    "\n",
    "<img src=\"./filtro_adaptativo.png\" style=\"width: 400px; margin:auto\"/>\n",
    "\n"
   ]
  },
  {
   "cell_type": "markdown",
   "metadata": {},
   "source": [
    "Considere o diagrama da acima, para o qual valem as seguintes definições:\n",
    "\n",
    "- $s(n)$ é o sinal que se deseja medir, após eliminada a interferência. Assuma que $s(n)$ é um ruído branco, Gaussiano, de\n",
    "média nula e variância $\\sigma_s^2=0\\vir 01$;\n",
    "- a interferência que se deseja eliminar é dada por $v(n)={\\rm sen}(2\\pi n/10+\\pi/6+\\phi_v)$, sendo $\\phi_v$ uma variável aleatória distribuída uniformemente entre 0 e $2\\pi$;\n",
    "- $x(n)$ é um sinal correlacionado com a interferência, dado por $x(n)=5{\\rm sen}(2\\pi n/10+\\phi_x)$ com $\\phi_x=\\phi_v$;\n",
    "- $d(n)=s(n)+v(n)$ é a resposta desejada para o filtro adaptativo;\n",
    "- $e(n)=d(n)-y(n)$ é o erro de estimação.\n",
    "\n",
    "Assumindo que o filtro adaptativo tenha $M=2$ coeficientes, pede-se:\n",
    "\n",
    "a. Utilize a identidade ${\\rm sen}(a){\\rm sen}(b)=\\frac{1}{2}\\cos(a-b)-\\frac{1}{2}\\cos(a+b)$ para obter a matriz $\\mathbf{R}=\\E\\{\\uM(n)\\uM^{\\T}(n)\\}$ de autocorrelação da entrada e o vetor $\\mathbf{p}=\\E\\{\\uM(n)d(n)\\}$ de correlação cruzada entre a entrada e o sinal desejado. Calcule:\n",
    "- o vetor de coeficientes ótimos $\\wo=\\mathbf{R}^{-1}\\mathbf{p}$;\n",
    "- o erro quadrático médio mínimo $J_{\\min}=\\sigma_d^2-\\mathbf{p}^{\\T}\\wo$, justificando a relação entre $J_{\\min}$ e\n",
    "$\\sigma_s^2$; e\n",
    "- a resposta em frequência do filtro ótimo na frequência da interferência e compare com $v(n)$ e $x(n)$.\n",
    "\n",
    "b. Com a matriz $\\mathbf{R}$ e a função [`numpy.linalg.eig`](https://numpy.org/doc/stable/reference/generated/numpy.linalg.eig.html), calcule a faixa de valores do passo de adaptação $\\eta$ que garante a convergência do algoritmo *Steepest Descent*.\n",
    "\n",
    "\n",
    "c. Aplique o algoritmo LMS com $\\eta=0\\vir03$ e $N=500$ iterações. Neste caso, pede-se:\n",
    "- observe inicialmente os sinais de entrada $x(n)$, de erro $e(n)$ e $s(n)$ em gráficos na mesma escala;\n",
    "- compare os coeficientes do filtro adaptativo com os coeficientes ótimos calculados no item a, fazendo um gráfico dos coeficientes ao longo das iterações;\n",
    "- trace as curvas de nível da superfície de erro e sobre elas, a trajetória dos coeficientes;\n",
    "- trace a curva do erro quadrático $e^2(n)$ em dB.\n",
    "\n",
    "d. Determine experimentalmente o valor máximo de $\\eta$ para convergência do algoritmo LMS e compare-o com  o valor calculado no item b para o algoritmo *Steepest Descent*.\n",
    "\n",
    "e. Obtenha uma aproximação para $J(n)=\\E\\{e^2(n)\\}$ considerando uma média de 500 realizações de $e^2(n)$. Note que em cada\n",
    "realização, um novo valor de $\\phi$ e um novo $s(n)$ devem ser considerados. Pede-se:\n",
    "- obtenha graficamente o valor do MSE em regime;\n",
    "- a partir do valor do MSE experimental e do $J_{\\min}$ calculado no item a, estime os valores experimentais do EMSE e do desajuste;\n",
    "- calcule os valores teóricos do desajuste e do EMSE e compare com os valores experimentais.\n",
    "\n",
    "f. Repita o item e para $\\eta=0\\vir01$ e $\\eta=0\\vir05$. Trace num mesmo gráfico as curvas de $J(n)$ em dB para $\\eta=0\\vir01$, $\\eta=0\\vir03$ e $\\eta=0\\vir05$ e verifique o compromisso entre velocidade de convergência e erro quadrático médio.\n"
   ]
  }
 ],
 "metadata": {
  "colab": {
   "provenance": []
  },
  "kernelspec": {
   "display_name": "Python 3 (ipykernel)",
   "language": "python",
   "name": "python3"
  },
  "language_info": {
   "codemirror_mode": {
    "name": "ipython",
    "version": 3
   },
   "file_extension": ".py",
   "mimetype": "text/x-python",
   "name": "python",
   "nbconvert_exporter": "python",
   "pygments_lexer": "ipython3",
   "version": "3.12.11"
  }
 },
 "nbformat": 4,
 "nbformat_minor": 4
}
