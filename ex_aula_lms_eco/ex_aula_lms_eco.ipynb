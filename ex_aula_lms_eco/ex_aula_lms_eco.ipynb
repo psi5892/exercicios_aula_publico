{
 "cells": [
  {
   "cell_type": "markdown",
   "metadata": {
    "id": "yGgWYiVgDeed"
   },
   "source": [
    "Para abrir o notebook no Google Colab, altere o domínio `github.com` para `githubtocolab.com`"
   ]
  },
  {
   "cell_type": "markdown",
   "metadata": {},
   "source": [
    "<div class=\"alert alert-block alert-danger\">\n",
    "Para praticar programação, é importante que você erre, leia as mensagens de erro e tente corrigí-los.\n",
    "    \n",
    "Dessa forma, no Google Colab, é importante que você DESATIVE OS RECURSOS DE AUTOCOMPLETAR:\n",
    "\n",
    "- Menu Ferramentas -> Configurações\n",
    "- Na janela que é aberta:\n",
    "  - Seção Editor -> Desativar \"Mostrar sugestões de preenchimento de código com base no contexto\"\n",
    "\n",
    "Na versão em inglês:\n",
    "\n",
    "- Menu Tools -> Settings\n",
    "- Na janela que é aberta:\n",
    "  - Seção Editor -> Desativar \"Show context-powered code completions\"\n",
    "</div>"
   ]
  },
  {
   "cell_type": "markdown",
   "metadata": {
    "id": "8VXhRoEfeeVY"
   },
   "source": [
    "# PSI5892 - Aula de Exercícios\n",
    "\n",
    "# Cancelamento de eco acústico com o algoritmo NLMS\n"
   ]
  },
  {
   "cell_type": "markdown",
   "metadata": {},
   "source": [
    "Considere o seguinte diagrama de blocos, onde:\n",
    "\n",
    "- $x(n)$ representa amostras de um sinal de voz;\n",
    "- $v(n)$ é ruído branco gaussiano de média nula e variância $\\sigma_v^2$;\n",
    "- $d(n)$  é a soma do eco (obtido a partir da filtragem do sinal de voz pela resposta ao pulso unitário do ambiente) com o ruído $v(n)$, ou seja: $d(n)=x(n)\\ast h(n)+v(n)$ sendo $h(n)$ a resposta ao pulso unitário do ambiente;\n",
    "- $e(n)$ é o erro definido como $e(n)=d(n)-y(n)$.\n",
    "\n",
    "<img src=\"./fig_ex_eco_diagrama_blocos.png\" style=\"margin:auto\"/>"
   ]
  },
  {
   "cell_type": "markdown",
   "metadata": {},
   "source": [
    "Para que o cancelador de eco acústico tenha um desempenho satisfatório é necessário que o número de\n",
    "coeficientes do filtro adaptativo satisfaça a seguinte inequação:\n",
    "$$\n",
    "MT_a>\\tau\n",
    "$$\n",
    "sendo $M$ o número de coeficientes do filtro adaptativo, $T_a$ o período de amostragem do sinal de voz e $\\tau$ o maior atraso do eco.\n",
    "\n",
    "Uma curva bastante útil quando se trabalha com cancelamento de eco é a curva ERLE (*echo return loss enhancement*) que mostra a redução de eco em dBs:\n",
    "$$\n",
    "{\\rm ERLE}(n)=10\\log_{10}\\Bigg(\\frac{{\\rm E}\\{d^2(n)\\}}{{\\rm E}\\{e^2(n)\\}}\\Bigg).\n",
    "$$\n",
    "Na solução dos exercícios 1), 2) e 3) considere o sinal de voz [`locutor.wav`](./locutor.wav) e a resposta ao pulso unitário armazenada no arquivo [`ri.pkl`](./ri.pkl)."
   ]
  },
  {
   "cell_type": "markdown",
   "metadata": {},
   "source": [
    "# Exercício 1\n",
    "\n",
    "Obtenha o sinal de eco, filtrando o sinal de voz pela resposta ao pulso unitário e adicionando a este resultado um ruído branco gaussiano de média zero com desvio padrão $\\sigma_v=10^{-4}$. Trace em um mesmo gráfico os sinais $x(n)$ e $d(n)$ com cores diferentes e ouça os sinais.\n",
    "\n",
    "Procure sempre utilizar vetores coluna representados por *arrays* NumPy de *rank* 2 para armazenar os sinais e utilize a biblioteca `soundfile` para ler o sinal de voz do locutor armazenado no arquivo `locutor.wav`, como no exemplo:"
   ]
  },
  {
   "cell_type": "markdown",
   "metadata": {},
   "source": [
    "```python\n",
    "import soundfile as sf\n",
    "\n",
    "file_path = \"locutor.wav\"\n",
    "x, fs = sf.read(file_path)\n",
    "```\n",
    "em que `x` é o *array* contendo as amostras do sinal e `fs` é a frequência de amostragem.\n",
    "\n",
    "\n",
    "Para ler os dados do arquivo com a resposta ao pulso unitário, utilize a biblioteca `pickle`, como no exemplo:\n",
    "``` python\n",
    "import pickle\n",
    "with open('ri.pkl', 'rb') as f:\n",
    "    ri = pickle.load(f)\n",
    "```\n",
    "\n",
    "Para calcular a saída de um filtro FIR, utilize a função [`scipy.signal.lfilter`](https://docs.scipy.org/doc/scipy/reference/generated/scipy.signal.lfilter.html), como no exemplo:\n",
    "```python\n",
    "from scipy.signal import lfilter\n",
    "# A função espera arrays de rank 1 para representar os coeficientes do filtro, por isso foi usado o método squeeze(). axis=0 indica que deseja-se filtrar um sinal representado por um vetor coluna\n",
    "s = lfilter(ri.squeeze(), 1, x, axis=0)\n",
    "```\n",
    "\n",
    "Para ouvir os sinais, utilize o [`IPython.display.Audio`](https://ipython.org/ipython-doc/3/api/generated/IPython.display.html), como no exemplo:\n",
    "\n",
    "```python\n",
    "from IPython.display import Audio\n",
    "# A função espera um array CxN em que C é o número de canais e N o número de amostras\n",
    "Audio(x.T, rate=fs)\n",
    "```\n",
    "\n",
    "Dessa forma, segue a lista de bibliotecas necessárias:"
   ]
  },
  {
   "cell_type": "code",
   "execution_count": 1,
   "metadata": {},
   "outputs": [],
   "source": [
    "import numpy as np\n",
    "import soundfile as sf\n",
    "import pickle\n",
    "\n",
    "from matplotlib import pyplot as plt\n",
    "from scipy.signal import lfilter\n",
    "from IPython.display import Audio"
   ]
  },
  {
   "cell_type": "markdown",
   "metadata": {},
   "source": [
    "## Resolução"
   ]
  },
  {
   "cell_type": "code",
   "execution_count": null,
   "metadata": {},
   "outputs": [],
   "source": []
  },
  {
   "cell_type": "markdown",
   "metadata": {},
   "source": [
    "# Exercício 2"
   ]
  },
  {
   "cell_type": "markdown",
   "metadata": {},
   "source": [
    "Escreva uma função para implementar o algoritmo NLMS com as seguintes entradas e saídas:\n",
    "```python\n",
    "\n",
    "def nlms(x, d, M, Nit, etatil, delta):\n",
    "    \"\"\"\n",
    "    Algoritmo NLMS\n",
    "\n",
    "    Entradas\n",
    "    x : vetor coluna com o sinal de entrada        \n",
    "    d : vetor coluna com o sinal desejado        \n",
    "    M : número de coeficientes do filtro\n",
    "    Nit : número de iterações a simular (comprimento do sinal de entrada)\n",
    "    etatil : passo de adaptação        \n",
    "    delta : fator de regularizaçãofloat        \n",
    "\n",
    "    Saídas:\n",
    "    W : matriz (N+1, M) contendo, em cada linha, os coeficientes do filtro para\n",
    "        uma determinada iteração        \n",
    "    e : vetor coluna com o sinal de erro\n",
    "    y : vetor coluna com o sinal de saída        \n",
    "    \"\"\"\n",
    "\n",
    "    # código\n",
    "\n",
    "    return W, e, y    \n",
    "\n",
    "```\n",
    "\n",
    "Em seguida, aplique o algoritmo NLMS com $\\tilde{\\eta}=0,1$, $\\delta=10^{-5}$ e\n",
    "$M=256$. Ouça os sinais $e(n)$ e $d(n)$. Note que a função `Audio` normaliza o volume do áudio e para desabilitar a normalização, pode ser usado o argumento `normalize=False`. Por fim, trace a curva ERLE para este caso usando a função `erle` fornecida. Considere que são usados blocos de `Nw=1024` amostras dos sinais $e(n)$ e $d(n)$ para estimar cada ponto da curva de ERLE."
   ]
  },
  {
   "cell_type": "code",
   "execution_count": 2,
   "metadata": {},
   "outputs": [],
   "source": [
    "def erle(d, e, Nw, fs):\n",
    "    \"\"\"\n",
    "    Function to calculate the Echo Return Loss Enhancement (ERLE)\n",
    "    after the echo canceller.\n",
    "\n",
    "    Parameters:\n",
    "    d : array_like\n",
    "        Echo signal (desired signal)\n",
    "    e : array_like\n",
    "        Residual echo signal (adaptive filter error)\n",
    "    Nw : int\n",
    "        Number of samples in the window for echo estimation over time\n",
    "    fs : int or float\n",
    "        Sampling frequency\n",
    "\n",
    "    Returns:\n",
    "    ERLEdB : ndarray\n",
    "        ERLE estimate in dB\n",
    "    \"\"\"\n",
    "\n",
    "    N = len(d)\n",
    "    Nb = N // Nw\n",
    "    ERLEx = np.zeros(Nb)\n",
    "    Ta = 1 / fs\n",
    "    EPS = np.finfo(float).eps\n",
    "\n",
    "    for i in range(Nb):\n",
    "        l = slice(Nw * i, Nw * (i + 1))\n",
    "        ERLEx[i] = np.mean(d[l]**2) / np.mean((e[l] + EPS)**2)\n",
    "\n",
    "    ERLEdB = 10 * np.log10(ERLEx)\n",
    "\n",
    "    # Plotting\n",
    "    t = np.linspace(0, (N-1) * Ta, Nb)\n",
    "    plt.plot(t, ERLEdB)\n",
    "    plt.grid(True)\n",
    "    plt.ylabel('ERLE (dB)')\n",
    "    plt.xlabel('Time (s)')\n",
    "    \n",
    "    # Plotting d normalized and scaled to fit on the same plot\n",
    "    td = np.linspace(t[0], t[-1], len(d))\n",
    "    plt.plot(td, 10 * d / np.max(np.abs(d)) - 11)\n",
    "    plt.plot([td[0], td[-1]], [-0.5, -0.5], 'k', linewidth=1)\n",
    "    \n",
    "    # Setting y-ticks and axis limits\n",
    "    plt.yticks(np.arange(0, np.ceil(np.max(ERLEdB)) + 10, 10))\n",
    "    plt.ylim([-21, np.ceil(np.max(ERLEdB))])\n",
    "    plt.show()\n",
    "\n",
    "    return ERLEdB"
   ]
  },
  {
   "cell_type": "markdown",
   "metadata": {},
   "source": [
    "## Resolução"
   ]
  },
  {
   "cell_type": "code",
   "execution_count": null,
   "metadata": {},
   "outputs": [],
   "source": []
  },
  {
   "cell_type": "markdown",
   "metadata": {},
   "source": [
    "# Exercício 3\n",
    "\n",
    "*Double Talk*. Suponha agora que em vez de ruído, $v(n)$ seja um outro sinal\n",
    "de voz [`eng.wav`](https://github.com/psi5892/exercicios_aula_publico/raw/refs/heads/main/eng.wav) não correlacionado com $x(n)$. Utilize então o\n",
    "algoritmo NLMS com $\\tilde{\\eta}=0,5$, $\\delta=10^{-5}$ e $M=256$,  para cancelar o eco do sinal de voz `locutor.wav` presente no sinal $d(n)$. Ouça os sinais $e(n)$ e $d(n)$. Explique os resultados obtidos."
   ]
  },
  {
   "cell_type": "markdown",
   "metadata": {},
   "source": [
    "## Resolução"
   ]
  },
  {
   "cell_type": "code",
   "execution_count": null,
   "metadata": {},
   "outputs": [],
   "source": []
  }
 ],
 "metadata": {
  "colab": {
   "provenance": []
  },
  "kernelspec": {
   "display_name": "Python 3 (ipykernel)",
   "language": "python",
   "name": "python3"
  },
  "language_info": {
   "codemirror_mode": {
    "name": "ipython",
    "version": 3
   },
   "file_extension": ".py",
   "mimetype": "text/x-python",
   "name": "python",
   "nbconvert_exporter": "python",
   "pygments_lexer": "ipython3",
   "version": "3.10.16"
  }
 },
 "nbformat": 4,
 "nbformat_minor": 4
}
