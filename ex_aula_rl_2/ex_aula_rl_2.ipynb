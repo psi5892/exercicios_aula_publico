{
 "cells": [
  {
   "cell_type": "markdown",
   "metadata": {},
   "source": [
    "$\\newcommand{\\Her}{\\scriptscriptstyle H}$\n",
    "$\\newcommand{\\T}{\\scriptscriptstyle T}$\n",
    "$%\\newcommand{\\R}{\\scriptscriptstyle R}$\n",
    "$\\newcommand{\\I}{\\scriptscriptstyle I}$\n",
    "$\\newcommand{\\mT}{\\scriptscriptstyle -T}$\n",
    "$\\newcommand{\\vir}{,\\hspace{-0.15ex}}$\n",
    "$\\newcommand{\\M}{\\scriptscriptstyle M}$\n",
    "$\\newcommand{\\RNN}{\\rm \\scriptscriptstyle RNN}$\n",
    "$\\newcommand{\\E}{{\\rm E}}$\n",
    "$\\newcommand{\\uM}{{\\mathbf u}}$\n",
    "$\\newcommand{\\tM}{{\\mathbf t}}$\n",
    "$\\newcommand{\\aM}{{\\mathbf a}}$\n",
    "$\\newcommand{\\bM}{{\\mathbf b}}$\n",
    "$\\newcommand{\\cM}{{\\mathbf c}}$\n",
    "$\\newcommand{\\sM}{{\\mathbf s}}$\n",
    "$\\newcommand{\\SM}{{\\mathbf S}}$\n",
    "$\\newcommand{\\vM}{{\\mathbf v}}$\n",
    "$\\newcommand{\\UM}{{\\mathbf U}}$\n",
    "$\\newcommand{\\VM}{{\\mathbf V}}$\n",
    "$\\newcommand{\\RM}{{\\mathbf R}}$\n",
    "$\\newcommand{\\DM}{{\\mathbf D}}$\n",
    "$\\newcommand{\\PM}{{\\mathbf P}}$\n",
    "$\\newcommand{\\HM}{{\\mathbf H}}$\n",
    "$\\newcommand{\\LM}{{\\mathbf L}}$\n",
    "$\\newcommand{\\AM}{{\\mathbf A}}$\n",
    "$\\newcommand{\\FM}{{\\mathbf F}}$\n",
    "$\\newcommand{\\BM}{{\\mathbf B}}$\n",
    "$\\newcommand{\\QM}{{\\mathbf Q}}$\n",
    "$\\newcommand{\\SigmaM}{{\\boldsymbol{\\Sigma}}}$\n",
    "$\\newcommand{\\IM}{{\\mathbf I}}$\n",
    "$\\newcommand{\\JM}{{\\mathbf J}}$\n",
    "$\\newcommand{\\yM}{{\\mathbf y}}$\n",
    "$\\newcommand{\\yhM}{\\hat{\\mathbf y}}$\n",
    "$\\newcommand{\\xhM}{\\hat{\\mathbf x}}$\n",
    "$\\newcommand{\\zM}{{\\mathbf z}}$\n",
    "$\\newcommand{\\xM}{{\\mathbf x}}$\n",
    "$\\newcommand{\\eM}{{\\mathbf e}}$\n",
    "$\\newcommand{\\zeroM}{{\\mathbf 0}}$\n",
    "$\\newcommand{\\rM}{{\\mathbf r}}$\n",
    "$\\newcommand{\\w}{{\\mathbf w}}$\n",
    "$\\newcommand{\\wtil}{\\widetilde{\\mathbf w}}$\n",
    "$\\newcommand{\\Dw}{\\boldsymbol{\\Delta}{\\mathbf w}}$\n",
    "$\\newcommand{\\Dewp}{\\boldsymbol{\\Delta}{\\mathbf{\\dot{w}}}}$\n",
    "$\\newcommand{\\wo}{{\\mathbf w}_{\\rm o}}$\n",
    "$\\newcommand{\\q}{{\\mathbf q}}$\n",
    "$\\newcommand{\\Nuquad}{\\|{\\mathbf u(n)}\\|^2}$\n",
    "$\\newcommand{\\traco}{{\\rm Tr}}$\n",
    "$\\newcommand{\\snum}{\\mathbf{s}_{n\\!-\\!1}}$\n"
   ]
  },
  {
   "cell_type": "markdown",
   "metadata": {
    "id": "yGgWYiVgDeed"
   },
   "source": [
    "Para abrir o notebook no Google Colab, altere o domínio `github.com` para `githubtocolab.com`"
   ]
  },
  {
   "cell_type": "markdown",
   "metadata": {},
   "source": [
    "<div class=\"alert alert-block alert-danger\">\n",
    "Para praticar programação, é importante que você erre, leia as mensagens de erro e tente corrigí-los.\n",
    "    \n",
    "Dessa forma, no Google Colab, é importante que você DESATIVE OS RECURSOS DE AUTOCOMPLETAR:\n",
    "\n",
    "- Menu Ferramentas -> Configurações\n",
    "- Na janela que é aberta:\n",
    "  - Seção Editor -> Desativar \"Mostrar sugestões de preenchimento de código com base no contexto\"\n",
    "  - Seção Assistência de IA -> Desabilitar itens\n",
    "\n",
    "Na versão em inglês:\n",
    "\n",
    "- Menu Tools -> Settings\n",
    "- Na janela que é aberta:\n",
    "  - Seção Editor -> Desativar \"Show context-powered code completions\"\n",
    "  - Seção AI Assistance -> Desabilitar itens\n",
    "</div>"
   ]
  },
  {
   "cell_type": "markdown",
   "metadata": {
    "id": "8VXhRoEfeeVY"
   },
   "source": [
    "# PSI5892 - Aula de Exercícios\n",
    "\n",
    "# Regressão Linear \n"
   ]
  },
  {
   "cell_type": "markdown",
   "metadata": {},
   "source": [
    "Nos exercícios anteriores, usamos a regressão linear  para ajustar uma função a um conjunto de dados. Neste exercício,\n",
    "o conjunto de dados será formado pelas amostras de uma função periódica de tempo contínuo que se deseja aproximar por uma soma de senos e cossenos.\n",
    "As ponderações dos senos e cossenos são os coeficientes da Série de Fourier da função periódica."
   ]
  },
  {
   "cell_type": "markdown",
   "metadata": {},
   "source": [
    "## Parte 1 - Série de Fourier da onda triangular"
   ]
  },
  {
   "attachments": {},
   "cell_type": "markdown",
   "metadata": {},
   "source": [
    "Nesta parte do exercício, vamos usar o método a regressão linear multivariada para obter os coeficientes da Série de Fourier de uma função periódica. Para isso, faça os  itens enumerados a seguir:\n",
    "\n",
    "1. Modifique a função que você obteve nos exercícios anteriores para  ajustar as amostras de um período de uma função periódica $f(t)$ com período $T_0=1/f_0$ a uma soma de senos e cossenos dada na forma retangular, dada por\n",
    "\n",
    "$$\n",
    "\\begin{align}\n",
    "\\hat{f}(t)=&a_0+a_1\\cos(2\\pi f_0 t)+ b_1{\\rm sen}\\,(2\\pi f_0 t)\\nonumber\\\\\n",
    "&+a_2\\cos(2\\pi 2 f_0 t)+ b_2{\\rm sen}\\,(2\\pi 2 f_0 t)\\nonumber\\\\\n",
    "&+\\cdots+a_K\\cos(2\\pi f_0 K t)+ b_K{\\rm sen}\\,(2\\pi f_0 K t)\\nonumber\n",
    "\\end{align}\n",
    "$$\n",
    "\n",
    "Sua função deve ter como parâmetros de **entrada**:\n",
    "\n",
    "- $\\tM$: o vetor  contendo $n$ amostras equiespaçadas  do tempo, correspondentes a um período da função $f(t)$, ou seja\n",
    "$$\n",
    "\\tM=\\left[0\\;\\;T_a\\;\\;2T_a\\;\\;\\cdots\\;\\;(n-1)T_a\\right]^{\\T}\n",
    "$$\n",
    "sendo $T_a=1/f_a$ o período de amostragem. Note que é importante que $n$ seja inteiro e para isso $f_a$ deve ser múltiplo inteiro de $f_0$;\n",
    "\n",
    "- $\\yM$: o vetor  contendo $n$ amostras equiespaçadas de um período da função $f(t)$, ou seja,\n",
    "\n",
    "$$\n",
    "\\yM=\\left[f(0)\\;\\;f(T_a)\\;\\;f(2T_a)\\;\\;\\cdots\\;\\;f((n-1)T_a)\\right]^{\\T}.\n",
    "$$\n",
    "\n",
    "- $K$: o número de harmônicos que se deseja usar na aproximação;\n",
    "\n",
    "- $\\omega_0=2\\pi f_0$: a frequência angular fundamental da função $f(t)$;\n",
    "\n",
    "e como parâmetros de **saída**:\n",
    "\n",
    "- $\\mathbf{X}$: a matriz de dados;\n",
    "\n",
    "- $\\vM$: o vetor contendo  $2K+1$ coeficientes da Série de Fourier de $f(t)$ na forma retangular, ou seja,\n",
    "$$\n",
    "\\vM=\\left[a_0\\;\\;a_1\\;\\;b_1\\;\\;a_2\\;\\;b_2\\;\\;\\cdots\\;\\;a_K\\;\\;b_K\\right]^{\\T};\n",
    "$$\n",
    "\n",
    "- $\\eM$: o vetor do erro da aproximação.\n",
    "\n",
    "Não use funções que calculam a inversa de uma matriz diretamente para evitar problemas numéricos.\n",
    "\n",
    "2. Teste seu programa para obter os coeficientes da Série de Fourier da onda triangular fornecida no arquivo `triang.pickle` que se encontra no arquivo zipado [`dados_ex_rl_2.zip`](./dados_ex_rl_2.zip). Para carregar um arquivo chamado *arquivo.pickle* e uma variável `x`, use uma estrutura do tipo\n",
    "``` python\n",
    "import pickle\n",
    "\n",
    "with open('arquivo.pickle', 'rb') as f:\n",
    "    x = pickle.load(f)\n",
    "```\n",
    "- Um período da onda triangular está mostrado na figura abaixo. Use $f_0=60~$Hz, $f_a=6000~$Hz e obtenha uma aproximação com $K=7$ harmônicos.\n",
    "\n",
    "<img src=\"./triangular.png\" style=\"width: 400px; margin:auto\"/>\n",
    "\n",
    "\n",
    "- Apresente em um mesmo gráfico quatro períodos da onda triangular e de sua aproximação por Série de Fourier.\n",
    "\n",
    "\n",
    "Caso queira conferir o resultado, os coeficientes da Série de Fourier de uma função periódica $f(t)$ com período $T_0=1/f_0$ podem ser calculados como\n",
    "  \n",
    "$$\n",
    "\\begin{align}\n",
    "   a_0&=\\displaystyle\\frac{1}{T_0}\\displaystyle\\int_{0}^{T_0}f(t) dt,\\nonumber\\\\\n",
    "    a_k&=\\displaystyle\\frac{2}{T_0}\\displaystyle\\int_{0}^{T_0}f(t)\\cos(k\\omega_0 t) dt\\nonumber\\\\\n",
    "     \\textnormal{e}\\\\\n",
    "  b_k&=\\displaystyle\\frac{2}{T}\\displaystyle\\int_{0}^{T_0}f(t){\\rm sen}(k\\omega_0 t) dt\\nonumber\n",
    "\\end{align}\n",
    "$$\n",
    "para $k=1,\\cdots K$."
   ]
  },
  {
   "cell_type": "markdown",
   "metadata": {},
   "source": [
    "## Parte 2 - Série de Fourier de um sinal de ECG"
   ]
  },
  {
   "attachments": {},
   "cell_type": "markdown",
   "metadata": {},
   "source": [
    "O sistema cardiovascular produz \"sinais elétricos\" que passam para os tecidos vizinhos e chegam à pele. Assim, com a colocação\n",
    "de eletrodos no peito, podemos gravar as variações de ondas elétricas emitidas pelas contrações do coração. O registro dessas\n",
    "ondas pode ser feito numa tira de papel, num monitor, ou armazenado num banco de dados, e é chamado de eletrocardiograma\n",
    "(ECG). No coração normal, um ciclo completo é representado por ondas P, Q, R, S, T, com duração total menor do que 0,8 segundos. Neste ciclo se distingue uma onda P que corresponde à contração dos átrios e um consecutivo complexo QRS determinado pela contração dos ventrículos. Conclui o ciclo uma onda T. Muitas alterações cardíacas determinam uma modificação da onda eletrocardiográfica normal, de modo que o eletrocardiograma representa um precioso meio de diagnóstico\n",
    "\n",
    "Na Figura I é mostrado um eletrocardiograma normal e na Figura II um ciclo cardíaco. Se o tempo estimado em cada quadrante é de  0,2 segundos (mostrado na Figura I) e um ciclo compreende 5 quadrantes, em 60 segundos (1 minuto), teremos a frequência de 60 ciclos ou batimentos por minuto (0,2 segundos x 5 = 1 segundo = 1 ciclo; em 60 segundos teremos 60 ciclos). Um adulto normal apresenta em média 60 a 100 batimentos (ciclos) por minuto. O maior problema na obtenção de ECGs é o aparecimento da\n",
    "interferência de 60 Hz da rede elétrica, principalmente devido às interconexões e imperfeições dos eletrocardiógrafos.  Para eliminar esse tipo de interferência, é essencial filtrar o sinal medido pelos eletrodos por um filtro analógico do tipo *notch* ou rejeita faixa.\n",
    "\n",
    "<img src=\"./PQRST.png\" style=\"width: 800px; margin:auto\"/>\n",
    "\n",
    "Nesta parte do exercício, vamos usar a regressão linear multivariada para obter os coeficientes da Série de Fourier de um sinal de ECG que contém uma interferência de 60 Hz. Por simplicidade, vamos considerar que sinal  ECG é periódico, fato que ocorre na prática somente de maneira aproximada. Faça os  itens enumerados a seguir:\n",
    "\n",
    "\n",
    "1. Considere as amostras de um período do sinal de ECG do arquivo `ecg.pickle` que se encontra no arquivo zipado [`dados_ex_rl_2.zip`](./dados_ex_rl_2.zip). Esse sinal foi amostrado com frequência de $f_a=6000~Hz$.\n",
    "\n",
    "- Faça um gráfico do período do ECG em função do tempo em segundos. É possível ver a interferência de 60~Hz?\n",
    "\n",
    "- Esse sinal corresponde a quantos batimentos por minuto? A pessoa que fez esse exame precisa se preocupar com a saúde? Por que?\n",
    "\n",
    "- Qual a frequência fundamental (em Hz) do sinal de ECG?\n",
    "\n",
    "2. Use seu programa para obter os coeficientes da Série de Fourier do ECG, considerando $K=30$. Apresente gráficos dos coeficientes $\\widehat{a}_0, \\widehat{a}_1, \\cdots \\widehat{a}_{30}$ e $\\widehat{b}_1, \\widehat{b}_2, \\cdots \\widehat{b}_{30}$ em função de $kf_0$, $k=0,1,\\cdots, 30$.\n",
    "\n",
    "3. Apresente em um mesmo gráfico o período do sinal de ECG  e de sua aproximação por Série de Fourier.\n",
    "\n",
    "4. Elimine os coeficientes da Série de Fourier correspondentes à interferência de 60~Hz. Sintetize o período do sinal de ECG a partir dessa nova Série de Fourier."
   ]
  }
 ],
 "metadata": {
  "colab": {
   "provenance": []
  },
  "kernelspec": {
   "display_name": "Python 3 (ipykernel)",
   "language": "python",
   "name": "python3"
  },
  "language_info": {
   "codemirror_mode": {
    "name": "ipython",
    "version": 3
   },
   "file_extension": ".py",
   "mimetype": "text/x-python",
   "name": "python",
   "nbconvert_exporter": "python",
   "pygments_lexer": "ipython3",
   "version": "3.12.11"
  }
 },
 "nbformat": 4,
 "nbformat_minor": 4
}
