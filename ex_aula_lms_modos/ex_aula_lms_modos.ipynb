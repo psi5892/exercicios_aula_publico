{
 "cells": [
  {
   "cell_type": "markdown",
   "metadata": {},
   "source": [
    "Para abrir o notebook no Google Colab, altere o domínio `github.com` para `githubtocolab.com`"
   ]
  },
  {
   "cell_type": "markdown",
   "metadata": {},
   "source": [
    "<div class=\"alert alert-block alert-danger\">\n",
    "Para praticar programação, é importante que você erre, leia as mensagens de erro e tente corrigí-los.\n",
    "    \n",
    "Dessa forma, no Google Colab, é importante que você DESATIVE OS RECURSOS DE AUTOCOMPLETAR:\n",
    "\n",
    "- Menu Ferramentas -> Configurações\n",
    "- Na janela que é aberta:\n",
    "  - Seção Editor -> Desativar \"Mostrar sugestões de preenchimento de código com base no contexto\"\n",
    "  - Seção Assistência de IA -> Desabilitar itens\n",
    "\n",
    "Na versão em inglês:\n",
    "\n",
    "- Menu Tools -> Settings\n",
    "- Na janela que é aberta:\n",
    "  - Seção Editor -> Desativar \"Show context-powered code completions\"\n",
    "  - Seção AI Assistance -> Desabilitar itens\n",
    "</div>"
   ]
  },
  {
   "cell_type": "markdown",
   "metadata": {
    "id": "hIOId8HxUVq_",
    "tags": []
   },
   "source": [
    "# PSI5892 - Aula de Exercícios \n",
    "\n",
    "# Algoritmo LMS e modos de treinamento\n",
    "\n",
    "Neste exercício vamos utilizar o algoritmo LMS no problema de classificação das meias-luas considerando os modos de treinamento estocástico, batch e mini-batch."
   ]
  },
  {
   "cell_type": "markdown",
   "metadata": {
    "id": "rNO5WKRmU_3O"
   },
   "source": [
    "Iniciamos importando as bibliotecas necessárias para implementar o algoritmo LMS"
   ]
  },
  {
   "cell_type": "code",
   "execution_count": null,
   "metadata": {
    "executionInfo": {
     "elapsed": 5,
     "status": "ok",
     "timestamp": 1679598860313,
     "user": {
      "displayName": "Magno Teófilo Madeira da Silva",
      "userId": "09650618759630710334"
     },
     "user_tz": 180
    },
    "id": "_EkDlcDKUIN4"
   },
   "outputs": [],
   "source": [
    "import numpy as np\n",
    "import matplotlib.pyplot as plt"
   ]
  },
  {
   "cell_type": "markdown",
   "metadata": {
    "id": "B6LQXcpAVFiV"
   },
   "source": [
    "Vamos gerar os dados de treinamento do problema das meias-luas."
   ]
  },
  {
   "cell_type": "code",
   "execution_count": null,
   "metadata": {
    "executionInfo": {
     "elapsed": 4,
     "status": "ok",
     "timestamp": 1679598862869,
     "user": {
      "displayName": "Magno Teófilo Madeira da Silva",
      "userId": "09650618759630710334"
     },
     "user_tz": 180
    },
    "id": "m856ku90UIN6"
   },
   "outputs": [],
   "source": [
    "def meias_luas(NA, NB, r1, r2, r3):\n",
    "    \"\"\"\n",
    "    dados = meias_luas(NA,NB,r1,r2,r3)\n",
    "    NA: número de pontos da região A\n",
    "    NB: número de pontos da região B\n",
    "    r1, r2 e r3: dados das meias-luas\n",
    "    \"\"\"\n",
    "\n",
    "    Nt = NA + NB  # total de dados de treinamento\n",
    "\n",
    "    # dados das meia luas\n",
    "    rmin = r1 - r3 / 2\n",
    "    rmax = r1 + r3 / 2\n",
    "\n",
    "    # Pontos da Região A\n",
    "    a = np.pi * np.random.rand(NA, 1)\n",
    "    rx1x2 = np.random.uniform(rmin, rmax, (NA, 1))\n",
    "    x1A = rx1x2 * np.cos(a)\n",
    "    x2A = rx1x2 * np.sin(a)\n",
    "    dA = np.ones((NA, 1))\n",
    "    pontosA = np.hstack((x1A, x2A, dA))\n",
    "\n",
    "    # Pontos da Região B\n",
    "    a = np.pi * np.random.rand(NB, 1)\n",
    "    rx1x2 = np.random.uniform(rmin, rmax, (NB, 1))\n",
    "    x1B = rx1x2 * np.cos(a) + r1\n",
    "    x2B = -rx1x2 * np.sin(a) - r2\n",
    "    dB = -np.ones((NB, 1))\n",
    "    pontosB = np.hstack((x1B, x2B, dB))\n",
    "\n",
    "    # Concatenando e embaralhando os dados\n",
    "    dados = np.vstack((pontosA, pontosB))\n",
    "    np.random.shuffle(dados)\n",
    "\n",
    "    # Figura para mostrar os dados de treino\n",
    "    fig, ax1 = plt.subplots()\n",
    "    ax1.plot(x1A, x2A, \".b\")\n",
    "    ax1.plot(x1B, x2B, \".r\")\n",
    "    plt.xlabel(\"x1\")\n",
    "    plt.ylabel(\"x2\")\n",
    "    #plt.grid(axis=\"x\", color=\"0.5\")\n",
    "    #plt.grid(axis=\"y\", color=\"0.5\")\n",
    "\n",
    "    return dados"
   ]
  },
  {
   "cell_type": "markdown",
   "metadata": {
    "id": "gkTZgpAyuDAW"
   },
   "source": [
    "Gera dados de treinamento"
   ]
  },
  {
   "cell_type": "code",
   "execution_count": null,
   "metadata": {
    "colab": {
     "base_uri": "https://localhost:8080/",
     "height": 279
    },
    "executionInfo": {
     "elapsed": 849,
     "status": "ok",
     "timestamp": 1679598866933,
     "user": {
      "displayName": "Magno Teófilo Madeira da Silva",
      "userId": "09650618759630710334"
     },
     "user_tz": 180
    },
    "id": "JIYtov8hs-z-",
    "outputId": "e20b1342-9c21-48e6-d49f-234026048411"
   },
   "outputs": [],
   "source": [
    "NA = 2500\n",
    "NB = 2500\n",
    "Nt = NA + NB  # número de dados de treinamento\n",
    "r1 = 10\n",
    "r3 = 6\n",
    "r2 = -4\n",
    "\n",
    "dados_treino = meias_luas(NA, NB, r1, r2, r3)"
   ]
  },
  {
   "cell_type": "code",
   "execution_count": null,
   "metadata": {
    "executionInfo": {
     "elapsed": 253,
     "status": "ok",
     "timestamp": 1679598870231,
     "user": {
      "displayName": "Magno Teófilo Madeira da Silva",
      "userId": "09650618759630710334"
     },
     "user_tz": 180
    },
    "id": "E5TjY4DvUIN7"
   },
   "outputs": [],
   "source": [
    "# organizando os dados para entrada do LMS\n",
    "x = dados_treino[:, [0, 1]]  # sinal de entrada\n",
    "d = dados_treino[:, [2]]  # sinal desejado"
   ]
  },
  {
   "cell_type": "markdown",
   "metadata": {},
   "source": [
    "## **Solução de Wiener** "
   ]
  },
  {
   "cell_type": "markdown",
   "metadata": {},
   "source": [
    "A função abaixo calcula a Solução de Wiener. Novamente, não é usual considerar um bias, mas como vamos inserir isso no LMS, vamos fazer o mesmo aqui."
   ]
  },
  {
   "cell_type": "markdown",
   "metadata": {},
   "source": [
    "<div class=\"alert alert-block alert-success\">\n",
    "Complete o código a seguir:\n",
    "</div>"
   ]
  },
  {
   "cell_type": "code",
   "execution_count": null,
   "metadata": {},
   "outputs": [],
   "source": [
    "# Função que obtém a solução de Wiener\n",
    "def Wiener(x, d, Nt):\n",
    "    \"\"\"\n",
    "    W_Wiener = Wiener(x,d,M,Nt)\n",
    "    x: sinal de entrada\n",
    "    d: sinal desejado\n",
    "    Nt: número de dados de treinamento\n",
    "    \"\"\"\n",
    "    M = x.shape[1]\n",
    "    # inserimos uma coluna de uns ao vetor de entrada para levar em conta o bias\n",
    "    x = np.hstack((np.ones((Nt, 1)), x))\n",
    "\n",
    "    R = np.zeros((M + 1, M + 1))\n",
    "    p = np.zeros((M + 1, 1))\n",
    "       \n",
    "    #############\n",
    "    # Complete o código\n",
    "    #\n",
    "    #\n",
    "    #\n",
    "    #############\n",
    "\n",
    "    W_Wiener = np.linalg.solve(R, p)\n",
    "\n",
    "    return W_Wiener"
   ]
  },
  {
   "cell_type": "code",
   "execution_count": null,
   "metadata": {},
   "outputs": [],
   "source": [
    "Ww = Wiener(x, d, Nt)\n",
    "print(Ww)"
   ]
  },
  {
   "cell_type": "markdown",
   "metadata": {
    "id": "PMU2gfic5oBZ"
   },
   "source": [
    "## **Modo estocástico** "
   ]
  },
  {
   "cell_type": "markdown",
   "metadata": {},
   "source": [
    "<div class=\"alert alert-block alert-success\">\n",
    "Complete o código a seguir:\n",
    "</div>"
   ]
  },
  {
   "cell_type": "code",
   "execution_count": null,
   "metadata": {
    "executionInfo": {
     "elapsed": 256,
     "status": "ok",
     "timestamp": 1679598872667,
     "user": {
      "displayName": "Magno Teófilo Madeira da Silva",
      "userId": "09650618759630710334"
     },
     "user_tz": 180
    },
    "id": "SwCtA-zsUIN8"
   },
   "outputs": [],
   "source": [
    "# Função que implementa o algoritmo LMS no modo de treinamento estocástico\n",
    "def LMS_FILTER_estocastico(x, d, eta, Nt):\n",
    "    \"\"\"\n",
    "    y,e,W = LMS_FILTER_estocastico(x,d,eta,M,Nt)\n",
    "    x: sinal de entrada\n",
    "    d: sinal desejado\n",
    "    eta: passo de adaptação\n",
    "    Nt: número de dados de treinamento\n",
    "    \"\"\"\n",
    "    M = x.shape[1]\n",
    "    # inserimos uma coluna de uns ao vetor de entrada para levar em conta o bias\n",
    "    x = np.hstack((np.ones((Nt, 1)), x))\n",
    "\n",
    "    W = np.zeros((Nt + 1, M + 1))\n",
    "\n",
    "    #############\n",
    "    # Complete o código\n",
    "    #\n",
    "    #\n",
    "    #\n",
    "    #############\n",
    "\n",
    "    return W"
   ]
  },
  {
   "cell_type": "markdown",
   "metadata": {
    "id": "aT5h0gzUm4kJ"
   },
   "source": [
    "Algumas observações:\n",
    " \n",
    "\n",
    "*   Em filtragem adaptativa, é comum considerar uma linha de atrasos no sinal de entrada, como foi explicado no material sobre o algoritmo LMS. No entanto, para a aplicação de classificação considerada aqui, não faz sentido considerar uma linha de atrasos.\n",
    "*   Também não é usual inserir o bias ao sinal de entrada como fizemos aqui.\n",
    "*   Inserimos o bias aqui porque estamos interessados em usar o algoritmo LMS como um modelo de um neurônio linear.\n",
    "\n"
   ]
  },
  {
   "cell_type": "markdown",
   "metadata": {
    "id": "UzA00O-DyTUX"
   },
   "source": [
    "Precisamos definir o passo de adaptação e número de pesos. No caso, vamos considerara M=2 já que temos um vetor de tamanho 2 na entrada do algoritmo."
   ]
  },
  {
   "cell_type": "code",
   "execution_count": null,
   "metadata": {
    "executionInfo": {
     "elapsed": 422,
     "status": "ok",
     "timestamp": 1679598877139,
     "user": {
      "displayName": "Magno Teófilo Madeira da Silva",
      "userId": "09650618759630710334"
     },
     "user_tz": 180
    },
    "id": "rOoyrrESUIN8"
   },
   "outputs": [],
   "source": [
    "eta = 1e-3  # passo de adaptação do LMS\n",
    "We = LMS_FILTER_estocastico(x, d, eta, Nt)"
   ]
  },
  {
   "cell_type": "markdown",
   "metadata": {
    "id": "IOW9ymU63xxr"
   },
   "source": [
    "Mostra no mesmo gráfico gráfico dos pesos e bias do algoritmo LMS e da solução de Wiener."
   ]
  },
  {
   "cell_type": "code",
   "execution_count": null,
   "metadata": {
    "colab": {
     "base_uri": "https://localhost:8080/",
     "height": 312
    },
    "executionInfo": {
     "elapsed": 1398,
     "status": "ok",
     "timestamp": 1679598886993,
     "user": {
      "displayName": "Magno Teófilo Madeira da Silva",
      "userId": "09650618759630710334"
     },
     "user_tz": 180
    },
    "id": "uNbkEFRGUIN8",
    "outputId": "b0c81d65-0a57-450b-d326-d2b7dc8a0d39"
   },
   "outputs": [],
   "source": [
    "# Mostra os pesos ao longo do treinamento\n",
    "# Obtém a solução de Wiener e plota junto com os pesos\n",
    "plt.plot(We, \"k\", label=\"LMS\")\n",
    "plt.plot(\n",
    "    [0, Nt],\n",
    "    [Ww[0], Ww[0]],\n",
    "    \"r--\",\n",
    "    [0, Nt],\n",
    "    [Ww[1], Ww[1]],\n",
    "    \"r--\",\n",
    "    [0, Nt],\n",
    "    [Ww[2], Ww[2]],\n",
    "    \"r--\",\n",
    "    label=\"Wiener\",\n",
    ")\n",
    "plt.xlabel(\"iterações\")\n",
    "plt.ylabel(\"pesos\")\n",
    "plt.grid(axis=\"x\", color=\"0.5\")\n",
    "plt.grid(axis=\"y\", color=\"0.5\")\n",
    "plt.title(\n",
    "    \"Pesos do LMS (em preto) e pesos da Solução em Wiener (em vermelho tracejado)\"\n",
    ")"
   ]
  },
  {
   "cell_type": "markdown",
   "metadata": {},
   "source": [
    "## **Reta de separação** "
   ]
  },
  {
   "cell_type": "markdown",
   "metadata": {},
   "source": [
    "Vamos gerar dados de teste e verificar como é feita a separação com a solução de Wiener."
   ]
  },
  {
   "cell_type": "code",
   "execution_count": null,
   "metadata": {},
   "outputs": [],
   "source": [
    "# Dados de teste\n",
    "NAt = 1000\n",
    "NBt = 1000\n",
    "Nteste = NAt + NBt\n",
    "r1 = 10\n",
    "r3 = 6\n",
    "r2 = -4\n",
    "\n",
    "dados_teste = meias_luas(NAt, NBt, r1, r2, r3)"
   ]
  },
  {
   "cell_type": "code",
   "execution_count": null,
   "metadata": {},
   "outputs": [],
   "source": [
    "# Inserindo 1's no vetor de entrada\n",
    "xteste = dados_teste[:, 0:2]  # sinal de entrada\n",
    "b = np.ones((Nteste, 1))\n",
    "xteste = np.hstack((b, xteste))\n",
    "dteste = dados_teste[:, 2].reshape(-1, 1)  # sinal desejado\n",
    "yteste = xteste @ Ww  # saída do filtro de Wiener considerando os dados de teste"
   ]
  },
  {
   "cell_type": "code",
   "execution_count": null,
   "metadata": {},
   "outputs": [],
   "source": [
    "# Gera a curva de separação das duas regiões\n",
    "# Dados da curva de separação\n",
    "Nsep = 100\n",
    "x1S = np.linspace(-15, 25, Nsep).reshape(-1, 1)\n",
    "x2S = np.linspace(-10, 15, Nsep).reshape(-1, 1)\n",
    "\n",
    "# Gera pontos da grade\n",
    "xx1S, xx2S = np.meshgrid(x1S, x2S)\n",
    "xx1S = xx1S.reshape(-1, 1)\n",
    "xx2S = xx2S.reshape(-1, 1)\n",
    "\n",
    "# Gera array x \n",
    "xgrid = np.hstack((xx1S, xx2S))\n",
    "Ngrid = len(xgrid)\n",
    "b = np.ones((Ngrid, 1))\n",
    "xgrid = np.hstack((b, xgrid))\n",
    "\n",
    "# Calcula saída para cada ponto da grade\n",
    "ygrid = np.sign(xgrid @ Ww)\n",
    "\n",
    "# Plota os pontos principais\n",
    "fig, ax2 = plt.subplots()\n",
    "for i in range(Nteste):\n",
    "    if dteste[i] == 1:\n",
    "        ax2.plot(xteste[i, 1], xteste[i, 2], \".b\")\n",
    "    else:\n",
    "        ax2.plot(xteste[i, 1], xteste[i, 2], \".r\")\n",
    "\n",
    "# Plota pontos da grade com saída -1 (usa transparência alpha)        \n",
    "l0 = np.where(ygrid == -1)[0]\n",
    "ax2.plot(xgrid[l0, 1], xgrid[l0, 2], \"r.\", alpha=0.1)\n",
    "\n",
    "# Plota pontos da grade com saída 1 (usa transparência alpha)\n",
    "l1 = np.where(ygrid == 1)[0]\n",
    "ax2.plot(xgrid[l1, 1], xgrid[l1, 2], \"b.\", alpha=0.1)"
   ]
  },
  {
   "cell_type": "markdown",
   "metadata": {},
   "source": [
    "<div class=\"alert alert-block alert-success\">\n",
    "Complete o código a seguir:\n",
    "</div>"
   ]
  },
  {
   "cell_type": "code",
   "execution_count": null,
   "metadata": {},
   "outputs": [],
   "source": [
    "#############        \n",
    "#Taxa_de_erro =\n",
    "#############        \n",
    "\n",
    "print(f\"Taxa de erro: {Taxa_de_erro}\")"
   ]
  },
  {
   "cell_type": "markdown",
   "metadata": {},
   "source": [
    "<div class=\"alert alert-block alert-success\">\n",
    "Complete o código a seguir:\n",
    "</div>"
   ]
  },
  {
   "cell_type": "markdown",
   "metadata": {},
   "source": [
    "Plote um gráfico com a reta de separação, considerando os valores dos pesos da última iteração em vez dos valores obtidos pela solução de Wiener. Note que o `yteste` deve ser recalculado com os últimos valores de `We`."
   ]
  },
  {
   "cell_type": "code",
   "execution_count": null,
   "metadata": {},
   "outputs": [],
   "source": [
    "#############\n",
    "\n",
    "\n",
    "\n",
    "#############"
   ]
  },
  {
   "cell_type": "markdown",
   "metadata": {
    "id": "VTRQ8RG652U4"
   },
   "source": [
    "## **Modo batch** "
   ]
  },
  {
   "cell_type": "markdown",
   "metadata": {
    "id": "QefIg3oN5Vcy"
   },
   "source": [
    "Vamos modificar a função anterior para considerar o modo de treinamento batch."
   ]
  },
  {
   "cell_type": "markdown",
   "metadata": {},
   "source": [
    "<div class=\"alert alert-block alert-success\">\n",
    "Complete o código a seguir:\n",
    "</div>"
   ]
  },
  {
   "cell_type": "code",
   "execution_count": null,
   "metadata": {
    "executionInfo": {
     "elapsed": 4,
     "status": "ok",
     "timestamp": 1679598894316,
     "user": {
      "displayName": "Magno Teófilo Madeira da Silva",
      "userId": "09650618759630710334"
     },
     "user_tz": 180
    },
    "id": "DW5NUiRb5UIq"
   },
   "outputs": [],
   "source": [
    "def LMS_FILTER_batch(x, d, eta, Nt, Ne):\n",
    "    \"\"\"\n",
    "    W = LMS_FILTER_batch(x,d,eta,M,Nt)\n",
    "    x: sinal de entrada\n",
    "    d: sinal desejado\n",
    "    eta: passo de adaptação\n",
    "    Nt: número de dados de treinamento\n",
    "    Ne: número de épocas\n",
    "    \"\"\"\n",
    "    \"\"\"\n",
    "    No modo de treinamento batch, é conveniente juntar o sinal de entrada e o sinal \n",
    "    desejado em um único vetor, uma vez que a cada época vamos embaralhar os dados.\n",
    "    Ao fazer isso, já inserimos uma coluna de 1's para levar em conta o bias.\n",
    "    \"\"\"\n",
    "    M = x.shape[1]\n",
    "    Xd = np.hstack((np.ones((Nt, 1)), x, d))\n",
    "    W = np.zeros((Ne + 1, M + 1))\n",
    "    # No modo batch, o passo de adaptação é dividido por Nt\n",
    "    eta = eta / Nt\n",
    "    for k in range(Ne):\n",
    "        np.random.shuffle(Xd)\n",
    "        #############\n",
    "        #xb = \n",
    "        #db = \n",
    "        #eb = \n",
    "        #W[[k + 1], :] = \n",
    "        #############\n",
    "    return W"
   ]
  },
  {
   "cell_type": "markdown",
   "metadata": {
    "id": "ISwmJ2yU9kln"
   },
   "source": [
    "Vamos definir o número de épocas e o passo de adaptação (que agora pode ser um pouco maior) e rodar o algoritmo LMS no modo batch. "
   ]
  },
  {
   "cell_type": "code",
   "execution_count": null,
   "metadata": {
    "executionInfo": {
     "elapsed": 12498,
     "status": "ok",
     "timestamp": 1679598909681,
     "user": {
      "displayName": "Magno Teófilo Madeira da Silva",
      "userId": "09650618759630710334"
     },
     "user_tz": 180
    },
    "id": "SewD-4nc9fmZ"
   },
   "outputs": [],
   "source": [
    "Ne = 1000\n",
    "eta = 1e-2\n",
    "Wb = LMS_FILTER_batch(x, d, eta, Nt, Ne)"
   ]
  },
  {
   "cell_type": "markdown",
   "metadata": {
    "id": "xfphknCaRsHZ"
   },
   "source": [
    "A seguir comparamos os pesos obtidos com o LMS no modo batch e os pesos da solução de Wiener."
   ]
  },
  {
   "cell_type": "code",
   "execution_count": null,
   "metadata": {
    "colab": {
     "base_uri": "https://localhost:8080/",
     "height": 313
    },
    "executionInfo": {
     "elapsed": 721,
     "status": "ok",
     "timestamp": 1679598912261,
     "user": {
      "displayName": "Magno Teófilo Madeira da Silva",
      "userId": "09650618759630710334"
     },
     "user_tz": 180
    },
    "id": "Ub-f5mNyCU1_",
    "outputId": "9b8a7241-27b9-4575-a249-8076edb60982"
   },
   "outputs": [],
   "source": [
    "# Mostra os pesos ao longo do treinamento e compara com Wiener\n",
    "plt.plot(Wb, \"k\", label=\"LMS\")\n",
    "plt.plot(\n",
    "    [0, Ne],\n",
    "    [Ww[0], Ww[0]],\n",
    "    \"r--\",\n",
    "    [0, Ne],\n",
    "    [Ww[1], Ww[1]],\n",
    "    \"r--\",\n",
    "    [0, Ne],\n",
    "    [Ww[2], Ww[2]],\n",
    "    \"r--\",\n",
    "    label=\"Wiener\",\n",
    ")\n",
    "plt.xlabel(\"iterações=épocas\")\n",
    "plt.ylabel(\"pesos\")\n",
    "plt.grid(axis=\"x\", color=\"0.5\")\n",
    "plt.grid(axis=\"y\", color=\"0.5\")\n",
    "plt.title(\n",
    "    \"Pesos do LMS no modo batch (em preto) e pesos da Solução em Wiener (em vermelho tracejado)\"\n",
    ")"
   ]
  },
  {
   "cell_type": "markdown",
   "metadata": {
    "id": "fsD68VP056G5"
   },
   "source": [
    "## **Modo mini-batch** "
   ]
  },
  {
   "cell_type": "markdown",
   "metadata": {
    "id": "XW8KKIrzR9cY"
   },
   "source": [
    "Vamos agora modificar a função anterior para considerar o LMS no modo de treinamento mini-batch."
   ]
  },
  {
   "cell_type": "markdown",
   "metadata": {},
   "source": [
    "<div class=\"alert alert-block alert-success\">\n",
    "Complete o código a seguir:\n",
    "</div>"
   ]
  },
  {
   "cell_type": "code",
   "execution_count": null,
   "metadata": {
    "executionInfo": {
     "elapsed": 797,
     "status": "ok",
     "timestamp": 1679598917635,
     "user": {
      "displayName": "Magno Teófilo Madeira da Silva",
      "userId": "09650618759630710334"
     },
     "user_tz": 180
    },
    "id": "uGsoAYL_SFHA"
   },
   "outputs": [],
   "source": [
    "def LMS_FILTER_minibatch(x, d, eta, Nt, Ne, Nb):\n",
    "    \"\"\"\n",
    "    W = LMS_FILTER_minibatch(x,d,eta,M,Nb)\n",
    "    x: sinal de entrada\n",
    "    d: sinal desejado\n",
    "    eta: passo de adaptação    \n",
    "    Nt: número de dados de treinamento\n",
    "    Ne: número de épocas\n",
    "    Nb: tamanho do mini-batch\n",
    "    \"\"\"\n",
    "    \"\"\"\n",
    "    Novamente, vamos juntar o sinal de entrada e o sinal desejado em um único vetor, \n",
    "    uma vez que a cada época vamos embaralhar os dados.\n",
    "    Ao fazer isso, já inserimos uma coluna de 1's para levar em conta o bias.\n",
    "    \"\"\"\n",
    "\n",
    "    M = x.shape[1]\n",
    "    Nmb = int(np.floor(Nt / Nb))\n",
    "    W = np.zeros((Ne * Nmb + 1, M + 1))\n",
    "    Xd = np.hstack((np.ones((Nt, 1)), x, d))\n",
    "\n",
    "    # No modo mini-batch, o passo de adaptação é dividido por Nb\n",
    "    eta = eta / Nb\n",
    "    for k in range(Ne):\n",
    "        np.random.shuffle(Xd)\n",
    "        x = Xd[:, 0 : M + 1]\n",
    "        d = Xd[:, [M + 1]]\n",
    "        for l in range(Nmb):\n",
    "            #############         \n",
    "            #dmb = \n",
    "            #xmb =             \n",
    "            # Note que o índice k usado no site inicia em 1\n",
    "            #m =\n",
    "            #emb = \n",
    "            #W[[m + 1], :] = \n",
    "            #############\n",
    "    return W"
   ]
  },
  {
   "cell_type": "markdown",
   "metadata": {
    "id": "F17Z8rAYUKLB"
   },
   "source": [
    "Vamos definir o número de épocas, o passo de adaptação e o tamanho do mini-batch e rodar o algoritmo LMS no modo mini-batch.\n",
    "\n"
   ]
  },
  {
   "cell_type": "code",
   "execution_count": null,
   "metadata": {
    "executionInfo": {
     "elapsed": 1481,
     "status": "ok",
     "timestamp": 1679598921792,
     "user": {
      "displayName": "Magno Teófilo Madeira da Silva",
      "userId": "09650618759630710334"
     },
     "user_tz": 180
    },
    "id": "NDPg3xCEUb9H"
   },
   "outputs": [],
   "source": [
    "Ne = 100\n",
    "Nb = 20\n",
    "eta = 1e-3\n",
    "Wmb = LMS_FILTER_minibatch(x, d, eta, Nt, Ne, Nb)"
   ]
  },
  {
   "cell_type": "markdown",
   "metadata": {
    "id": "lRk5_q63U4mI"
   },
   "source": [
    "A seguir comparamos os pesos obtidos com o LMS no modo mini-batch e os pesos da solução de Wiener."
   ]
  },
  {
   "cell_type": "code",
   "execution_count": null,
   "metadata": {
    "colab": {
     "base_uri": "https://localhost:8080/",
     "height": 330
    },
    "executionInfo": {
     "elapsed": 820,
     "status": "ok",
     "timestamp": 1679598924463,
     "user": {
      "displayName": "Magno Teófilo Madeira da Silva",
      "userId": "09650618759630710334"
     },
     "user_tz": 180
    },
    "id": "NoYtDveOVHpv",
    "outputId": "50c34dbb-ca72-4e1d-b8af-fc057c07cff8"
   },
   "outputs": [],
   "source": [
    "# Mostra os pesos ao longo do treinamento e compara com Wiener\n",
    "Nmb = int(np.floor(Nt / Nb))\n",
    "print(Nmb)\n",
    "plt.plot(Wmb, \"k\", label=\"LMS\")\n",
    "plt.plot(\n",
    "    [0, Nmb * Ne],\n",
    "    [Ww[0], Ww[0]],\n",
    "    \"r--\",\n",
    "    [0, Nmb * Ne],\n",
    "    [Ww[1], Ww[1]],\n",
    "    \"r--\",\n",
    "    [0, Nmb * Ne],\n",
    "    [Ww[2], Ww[2]],\n",
    "    \"r--\",\n",
    "    label=\"Wiener\",\n",
    ")\n",
    "plt.xlabel(\"iterações\")\n",
    "plt.ylabel(\"pesos\")\n",
    "plt.grid(axis=\"x\", color=\"0.5\")\n",
    "plt.grid(axis=\"y\", color=\"0.5\")\n",
    "plt.title(\n",
    "    \"Pesos do LMS no modo mini-batch (em preto) e pesos da Solução em Wiener (em vermelho tracejado)\"\n",
    ")"
   ]
  },
  {
   "cell_type": "markdown",
   "metadata": {
    "id": "05IsdWrS6Gr4"
   },
   "source": [
    "## **Comparando os modos de treinamento** "
   ]
  },
  {
   "cell_type": "markdown",
   "metadata": {
    "id": "MZyT0zSFX9KN"
   },
   "source": [
    "Vamos agora plotar o caminho dos pesos no plano $w_1 \\times w_2$ ao longo das iterações"
   ]
  },
  {
   "cell_type": "code",
   "execution_count": null,
   "metadata": {
    "colab": {
     "base_uri": "https://localhost:8080/",
     "height": 297
    },
    "executionInfo": {
     "elapsed": 1304,
     "status": "ok",
     "timestamp": 1679598928022,
     "user": {
      "displayName": "Magno Teófilo Madeira da Silva",
      "userId": "09650618759630710334"
     },
     "user_tz": 180
    },
    "id": "1tT2ZuQVX87O",
    "outputId": "f5b38f00-f214-43f7-f8e0-33500793d10a"
   },
   "outputs": [],
   "source": [
    "plt.figure()\n",
    "plt.plot(We[:, 1], We[:, 2], \"o-r\", label=\"estocástico\")\n",
    "plt.plot(Wmb[:, 1], Wmb[:, 2], \"o-g\", label=\"mini-batch\")\n",
    "plt.plot(Wb[:, 1], Wb[:, 2], \"o-b\", label=\"batch\")\n",
    "plt.xlabel(\"w_1\")\n",
    "plt.ylabel(\"w_2\")\n",
    "plt.grid(axis=\"x\", color=\"0.5\")\n",
    "plt.grid(axis=\"y\", color=\"0.5\")\n",
    "plt.legend()"
   ]
  },
  {
   "cell_type": "markdown",
   "metadata": {},
   "source": [
    "<div class=\"alert alert-block alert-success\">\n",
    "Complete o código e faça a análise a seguir:\n",
    "</div>"
   ]
  },
  {
   "cell_type": "markdown",
   "metadata": {},
   "source": [
    "Usando diferentes valores para o passo de adaptação (1e-2, 1e-3, 1e-4), avaliem  o comportamento do algoritmo nos modos batch e mini batch, a partir do gráfico de pesos x iterações."
   ]
  },
  {
   "cell_type": "code",
   "execution_count": null,
   "metadata": {},
   "outputs": [],
   "source": [
    "#############         \n",
    "\n",
    "\n",
    "#############"
   ]
  }
 ],
 "metadata": {
  "colab": {
   "provenance": []
  },
  "kernelspec": {
   "display_name": "Python 3 (ipykernel)",
   "language": "python",
   "name": "python3"
  },
  "language_info": {
   "codemirror_mode": {
    "name": "ipython",
    "version": 3
   },
   "file_extension": ".py",
   "mimetype": "text/x-python",
   "name": "python",
   "nbconvert_exporter": "python",
   "pygments_lexer": "ipython3",
   "version": "3.12.11"
  }
 },
 "nbformat": 4,
 "nbformat_minor": 4
}
