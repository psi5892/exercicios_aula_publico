{
 "cells": [
  {
   "cell_type": "markdown",
   "metadata": {
    "id": "gXems7TEBx-S"
   },
   "source": [
    "Para abrir o notebook no Google Colab, altere o domínio `github.com` para `githubtocolab.com`"
   ]
  },
  {
   "cell_type": "markdown",
   "metadata": {},
   "source": [
    "<div class=\"alert alert-block alert-danger\">\n",
    "Para praticar programação, é importante que você erre, leia as mensagens de erro e tente corrigí-los.\n",
    "    \n",
    "Dessa forma, no Google Colab, é importante que você DESATIVE OS RECURSOS DE AUTOCOMPLETAR:\n",
    "\n",
    "- Menu Ferramentas -> Configurações\n",
    "- Na janela que é aberta:\n",
    "  - Seção Editor -> Desativar \"Mostrar sugestões de preenchimento de código com base no contexto\"\n",
    "  - Seção Assistência de IA -> Desabilitar itens\n",
    "\n",
    "Na versão em inglês:\n",
    "\n",
    "- Menu Tools -> Settings\n",
    "- Na janela que é aberta:\n",
    "  - Seção Editor -> Desativar \"Show context-powered code completions\"\n",
    "  - Seção AI Assistance -> Desabilitar itens\n",
    "</div>"
   ]
  },
  {
   "cell_type": "markdown",
   "metadata": {
    "id": "YONAgLYZB24h"
   },
   "source": [
    "# PSI5892 - Aula de Exercícios"
   ]
  },
  {
   "cell_type": "markdown",
   "metadata": {
    "id": "zPRGwQ33DzfZ"
   },
   "source": [
    "# Perceptron de Rosenblatt e Regressão Logística"
   ]
  },
  {
   "cell_type": "markdown",
   "metadata": {},
   "source": [
    "# Exercício 1"
   ]
  },
  {
   "attachments": {},
   "cell_type": "markdown",
   "metadata": {
    "id": "kZsXgAv7CYKi"
   },
   "source": [
    "Neste exercício vamos utilizar o neurônio de Rosenblatt para implementar a função lógica AND.\n",
    "\n",
    "Iniciamos importando as bibliotecas necessárias para implementar o neurônio de Rosenblatt."
   ]
  },
  {
   "cell_type": "code",
   "execution_count": 1,
   "metadata": {
    "id": "bbXUGttSUecW"
   },
   "outputs": [],
   "source": [
    "import numpy as np\n",
    "import matplotlib.pyplot as plt"
   ]
  },
  {
   "cell_type": "markdown",
   "metadata": {
    "id": "j-YtmnIlCmV6"
   },
   "source": [
    "Vamos gerar os dados de treinamento do problema começando pelo AND."
   ]
  },
  {
   "cell_type": "markdown",
   "metadata": {
    "id": "7oXZxOupDzfb"
   },
   "source": [
    "<div class=\"alert alert-block alert-success\">\n",
    "Complete o código a seguir:\n",
    "</div>"
   ]
  },
  {
   "cell_type": "code",
   "execution_count": 2,
   "metadata": {
    "id": "HwDABZUlUecY"
   },
   "outputs": [],
   "source": [
    "Nt = 100  # número de pontos de treinamento\n",
    "\n",
    "############# \n",
    "# x deve ser uma matriz com Nt linhas e 2 colunas com valores 0 ou 1 aleatórios,\n",
    "# que pode ser gerada usando as funções np.round e np.random.uniform.\n",
    "# d deve ser um vetor coluna com Nt linhas contendo o resultado da função lógica\n",
    "# AND aplicada ao vetor x. Para isso use a função np.logical_and.\n",
    "# Note que a função np.logical_and devolve um vetor com elementos do tipo boolean.\n",
    "# Para transformar os elementos para o tipo inteiro, basta multiplicá-lo por 1\n",
    "# ou usar o método .astype(int)\n",
    "\n",
    "#x =\n",
    "#d = 1*()\n",
    "#############"
   ]
  },
  {
   "cell_type": "markdown",
   "metadata": {
    "id": "DdQnGc9XJJq7"
   },
   "source": [
    "A função a seguir implementa o neurônio de Rosenblatt no modo mini-batch. Modifique o programa do algoritmo LMS no modo mini- inserindo a função de ativação.\n",
    "Para obter 0 ou 1 na saída, deve-se usar a função degrau em vez da função sinal. Para isso, use a função `np.heaviside`.\n",
    "Uma outra modificação que deve ser considerada é a inicialização dos pesos e bias, que agora devem ser inicializados com valores aleatórios uniformemente distribuídos no intervalo [-dw, dw]. "
   ]
  },
  {
   "cell_type": "markdown",
   "metadata": {
    "id": "wbN1OJVbDzfc"
   },
   "source": [
    "<div class=\"alert alert-block alert-success\">\n",
    "Complete o código a seguir:\n",
    "</div>"
   ]
  },
  {
   "cell_type": "code",
   "execution_count": 1,
   "metadata": {
    "id": "SsWVWo60aXxs"
   },
   "outputs": [],
   "source": [
    "def Rosenblatt_minibatch(x, d, eta, Nt, Ne, Nb, dw):\n",
    "    \"\"\"\n",
    "    W = Rosenblatt_minibatch(x, d, eta, Nt, Ne, Nb)\n",
    "    x: sinal de entrada\n",
    "    d: sinal desejado\n",
    "    eta: passo de adaptação\n",
    "    Nt: número de dados de treinamento\n",
    "    Ne: número de épocas\n",
    "    Nb: tamanho do mini-batch\n",
    "    dw: inicialização dos pesos e bias com distribuição uniforme no invervalo [-dw, dw]\n",
    "    \"\"\"\n",
    "    \"\"\"\n",
    "    Novamente, vamos juntar o sinal de entrada e o sinal desejado em um único vetor, \n",
    "    uma vez que a cada época vamos embaralhar os dados.\n",
    "    Ao fazer isso, já inserimos uma coluna de 1's para levar em conta o bias.\n",
    "    \"\"\"\n",
    "    #############\n",
    "    pass\n",
    "    # return W\n",
    "    #############\n",
    "\n"
   ]
  },
  {
   "cell_type": "code",
   "execution_count": 4,
   "metadata": {
    "id": "OQfbxggUUeca"
   },
   "outputs": [],
   "source": [
    "eta = 0.5  # passo de adaptação do algoritmo de Rosenblatt\n",
    "Nb = 20\n",
    "Ne = 100\n",
    "dw = 2\n",
    "\n",
    "#############  Complete o código a seguir\n",
    "#W = Rosenblatt_minibatch(x, d, eta, Nt, Ne, Nb, dw)\n",
    "\n",
    "# Wfinal deve ser os valores de pesos e bias da última iteração\n",
    "#Wfinal =\n",
    "#print(Wfinal)\n",
    "#############"
   ]
  },
  {
   "cell_type": "markdown",
   "metadata": {
    "id": "2-LsVdceDzfc"
   },
   "source": [
    "<div class=\"alert alert-block alert-success\">\n",
    "Complete o código a seguir:\n",
    "</div>"
   ]
  },
  {
   "cell_type": "code",
   "execution_count": 5,
   "metadata": {
    "id": "ng4gDTrILTVT"
   },
   "outputs": [],
   "source": [
    "# Gere um gráfico para mostrar os pesos e bias ao longo das iterações"
   ]
  },
  {
   "cell_type": "markdown",
   "metadata": {
    "id": "uASv_CQIDzfd"
   },
   "source": [
    "<div class=\"alert alert-block alert-success\">\n",
    "Complete o código a seguir:\n",
    "</div>"
   ]
  },
  {
   "cell_type": "code",
   "execution_count": 6,
   "metadata": {
    "id": "RNKpIjMzUecb"
   },
   "outputs": [],
   "source": [
    "# Gere os dados de teste, calcule a taxa de erro e gere a reta de separação das\n",
    "# regiões, mostrando em um mesmo gráfico a reta e os dados de teste classificados.\n",
    "# Comente o resultado, explicando se é possível utilizar o neurônio de Rosenblatt\n",
    "# para implementar esta função lógica.\n",
    "\n",
    "\n"
   ]
  },
  {
   "cell_type": "markdown",
   "metadata": {},
   "source": [
    "# Exercício 2\n",
    "\n",
    "Repita o exercício anterior considerando as portas lógicas OR e o XOR.\n",
    "\n",
    "## Resolução"
   ]
  },
  {
   "cell_type": "code",
   "execution_count": null,
   "metadata": {},
   "outputs": [],
   "source": []
  },
  {
   "cell_type": "markdown",
   "metadata": {},
   "source": [
    "# Exercício 3\n",
    "\n",
    "Repita o exercício para as portas lógicas AND, OR e XOR considerando a otimização do modelo utilizando a regressão logística com as seguintes funções custo:\n",
    "- Erro quadrático médio\n",
    "- Entropia cruzada\n",
    "\n",
    "## Resolução"
   ]
  },
  {
   "cell_type": "code",
   "execution_count": null,
   "metadata": {},
   "outputs": [],
   "source": []
  }
 ],
 "metadata": {
  "colab": {
   "provenance": []
  },
  "kernelspec": {
   "display_name": "Python 3 (ipykernel)",
   "language": "python",
   "name": "python3"
  },
  "language_info": {
   "codemirror_mode": {
    "name": "ipython",
    "version": 3
   },
   "file_extension": ".py",
   "mimetype": "text/x-python",
   "name": "python",
   "nbconvert_exporter": "python",
   "pygments_lexer": "ipython3",
   "version": "3.12.11"
  }
 },
 "nbformat": 4,
 "nbformat_minor": 4
}
